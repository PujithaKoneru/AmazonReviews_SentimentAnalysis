{
 "cells": [
  {
   "cell_type": "code",
   "execution_count": 1,
   "metadata": {},
   "outputs": [
    {
     "name": "stderr",
     "output_type": "stream",
     "text": [
      "[nltk_data] Downloading package stopwords to\n",
      "[nltk_data]     /Users/pujitha.koneru/nltk_data...\n",
      "[nltk_data]   Package stopwords is already up-to-date!\n"
     ]
    }
   ],
   "source": [
    "from pprint import pprint\n",
    "# Data Processing\n",
    "\n",
    "import re\n",
    "import string\n",
    "import numpy as np\n",
    "import pandas as pd\n",
    "pd.set_option('display.expand_frame_repr', False)\n",
    "\n",
    "# Topic Modeling - LDA\n",
    "\n",
    "import gensim\n",
    "import gensim.corpora as corpora\n",
    "from gensim.utils import simple_preprocess\n",
    "from gensim.models import CoherenceModel\n",
    "\n",
    "# NLTK Stop words\n",
    "\n",
    "import nltk\n",
    "from nltk.corpus import stopwords\n",
    "nltk.download('stopwords')\n",
    "stopwords.words('english')\n",
    "\n",
    "# lemmatization\n",
    "\n",
    "import spacy\n",
    "\n",
    "# Graphs\n",
    "\n",
    "import pyLDAvis\n",
    "import pyLDAvis.gensim\n",
    "import matplotlib as plt1\n",
    "import matplotlib.pyplot as plt\n",
    "from wordcloud import WordCloud, STOPWORDS\n",
    "%matplotlib inline\n",
    "\n",
    "# Ignore warnings\n",
    "\n",
    "import warnings\n",
    "warnings.filterwarnings('ignore')"
   ]
  },
  {
   "cell_type": "code",
   "execution_count": 8,
   "metadata": {},
   "outputs": [],
   "source": [
    "df = pd.read_csv(\"/Users/pujitha.koneru/Datafiniti_Amazon_Consumer_Reviews_of_Amazon_Products_May19.csv\")"
   ]
  },
  {
   "cell_type": "code",
   "execution_count": 9,
   "metadata": {},
   "outputs": [
    {
     "data": {
      "text/html": [
       "<div>\n",
       "<style scoped>\n",
       "    .dataframe tbody tr th:only-of-type {\n",
       "        vertical-align: middle;\n",
       "    }\n",
       "\n",
       "    .dataframe tbody tr th {\n",
       "        vertical-align: top;\n",
       "    }\n",
       "\n",
       "    .dataframe thead th {\n",
       "        text-align: right;\n",
       "    }\n",
       "</style>\n",
       "<table border=\"1\" class=\"dataframe\">\n",
       "  <thead>\n",
       "    <tr style=\"text-align: right;\">\n",
       "      <th></th>\n",
       "      <th>reviews.text</th>\n",
       "    </tr>\n",
       "    <tr>\n",
       "      <th>name</th>\n",
       "      <th></th>\n",
       "    </tr>\n",
       "  </thead>\n",
       "  <tbody>\n",
       "    <tr>\n",
       "      <th>All-New Fire 7 Tablet with Alexa, 7\" Display, 8 GB - Marine Blue</th>\n",
       "      <td>82</td>\n",
       "    </tr>\n",
       "    <tr>\n",
       "      <th>All-New Fire HD 8 Kids Edition Tablet, 8 HD Display, 32 GB, Blue Kid-Proof Case</th>\n",
       "      <td>233</td>\n",
       "    </tr>\n",
       "    <tr>\n",
       "      <th>All-New Fire HD 8 Kids Edition Tablet, 8 HD Display, 32 GB, Pink Kid-Proof Case</th>\n",
       "      <td>293</td>\n",
       "    </tr>\n",
       "    <tr>\n",
       "      <th>All-New Fire HD 8 Tablet with Alexa, 8 HD Display, 16 GB, Marine Blue - with Special Offers</th>\n",
       "      <td>883</td>\n",
       "    </tr>\n",
       "    <tr>\n",
       "      <th>All-New Fire HD 8 Tablet with Alexa, 8 HD Display, 32 GB, Marine Blue - with Special Offers</th>\n",
       "      <td>160</td>\n",
       "    </tr>\n",
       "    <tr>\n",
       "      <th>...</th>\n",
       "      <td>...</td>\n",
       "    </tr>\n",
       "    <tr>\n",
       "      <th>Kindle PowerFast International Charging Kit (for accelerated charging in over 200 countries)</th>\n",
       "      <td>5</td>\n",
       "    </tr>\n",
       "    <tr>\n",
       "      <th>Kindle Voyage E-reader, 6 High-Resolution Display (300 ppi) with Adaptive Built-in Light, PagePress Sensors, Free 3G + Wi-Fi - Includes Special Offers</th>\n",
       "      <td>36</td>\n",
       "    </tr>\n",
       "    <tr>\n",
       "      <th>Kindle Voyage E-reader, 6 High-Resolution Display (300 ppi) with Adaptive Built-in Light, PagePress Sensors, Wi-Fi - Includes Special Offers</th>\n",
       "      <td>505</td>\n",
       "    </tr>\n",
       "    <tr>\n",
       "      <th>Oem Amazon Kindle Power Usb Adapter Wall Travel Charger Fire/dx/+micro Usb Cable</th>\n",
       "      <td>4</td>\n",
       "    </tr>\n",
       "    <tr>\n",
       "      <th>Two Door Top Load Pet Kennel Travel Crate Dog Cat Pet Cage Carrier Box Tray 23\"</th>\n",
       "      <td>1</td>\n",
       "    </tr>\n",
       "  </tbody>\n",
       "</table>\n",
       "<p>65 rows × 1 columns</p>\n",
       "</div>"
      ],
      "text/plain": [
       "                                                    reviews.text\n",
       "name                                                            \n",
       "All-New Fire 7 Tablet with Alexa, 7\" Display, 8...            82\n",
       "All-New Fire HD 8 Kids Edition Tablet, 8 HD Dis...           233\n",
       "All-New Fire HD 8 Kids Edition Tablet, 8 HD Dis...           293\n",
       "All-New Fire HD 8 Tablet with Alexa, 8 HD Displ...           883\n",
       "All-New Fire HD 8 Tablet with Alexa, 8 HD Displ...           160\n",
       "...                                                          ...\n",
       "Kindle PowerFast International Charging Kit (fo...             5\n",
       "Kindle Voyage E-reader, 6 High-Resolution Displ...            36\n",
       "Kindle Voyage E-reader, 6 High-Resolution Displ...           505\n",
       "Oem Amazon Kindle Power Usb Adapter Wall Travel...             4\n",
       "Two Door Top Load Pet Kennel Travel Crate Dog C...             1\n",
       "\n",
       "[65 rows x 1 columns]"
      ]
     },
     "execution_count": 9,
     "metadata": {},
     "output_type": "execute_result"
    }
   ],
   "source": [
    "df[['name', 'reviews.text']].groupby('name').agg('count')"
   ]
  },
  {
   "cell_type": "code",
   "execution_count": 10,
   "metadata": {},
   "outputs": [
    {
     "data": {
      "image/png": "[encoded data removed]",
      "text/plain": [
       "<Figure size 864x432 with 1 Axes>"
      ]
     },
     "metadata": {
      "needs_background": "light"
     },
     "output_type": "display_data"
    }
   ],
   "source": [
    "# Create word cloud from the entire corpus of reviews\n",
    "\n",
    "stpWrds = set(stopwords.words('english'))\n",
    "plt1.rcParams['figure.figsize'] = (12, 6)\n",
    "\n",
    "reviewComb = df['reviews.text'].tolist()\n",
    "finalText = ' '.join(reviewComb)\n",
    "\n",
    "\n",
    "def generate_wordcloud(text):  # optionally add: stopwords=STOPWORDS and change the arg below\n",
    "\n",
    "    wordcloud = WordCloud(stopwords=stpWrds).generate(text)  # set or space-separated string\n",
    "    plt1.pyplot.imshow(wordcloud)\n",
    "    plt1.pyplot.axis('off')\n",
    "    plt1.pyplot.savefig('wordcloud.jpg')\n",
    "    plt1.pyplot.show()\n",
    "\n",
    "\n",
    "generate_wordcloud(finalText)"
   ]
  },
  {
   "cell_type": "code",
   "execution_count": 11,
   "metadata": {},
   "outputs": [],
   "source": [
    "# Select a single product for the analysis\n",
    "\n",
    "df = df[df['name']\n",
    "        == 'AmazonBasics AA Performance Alkaline Batteries (48 Count) - Packaging May Vary'\n",
    "        ]  # choose one product"
   ]
  },
  {
   "cell_type": "markdown",
   "metadata": {},
   "source": [
    "### Data cleaning"
   ]
  },
  {
   "cell_type": "code",
   "execution_count": 12,
   "metadata": {},
   "outputs": [
    {
     "data": {
      "text/plain": [
       "id                      object\n",
       "dateAdded               object\n",
       "dateUpdated             object\n",
       "name                    object\n",
       "asins                   object\n",
       "brand                   object\n",
       "categories              object\n",
       "primaryCategories       object\n",
       "imageURLs               object\n",
       "keys                    object\n",
       "manufacturer            object\n",
       "manufacturerNumber      object\n",
       "reviews.date            object\n",
       "reviews.dateSeen        object\n",
       "reviews.didPurchase     object\n",
       "reviews.doRecommend     object\n",
       "reviews.id             float64\n",
       "reviews.numHelpful     float64\n",
       "reviews.rating           int64\n",
       "reviews.sourceURLs      object\n",
       "reviews.text            object\n",
       "reviews.title           object\n",
       "reviews.username        object\n",
       "sourceURLs              object\n",
       "dtype: object"
      ]
     },
     "execution_count": 12,
     "metadata": {},
     "output_type": "execute_result"
    }
   ],
   "source": [
    "df.dtypes"
   ]
  },
  {
   "cell_type": "code",
   "execution_count": 13,
   "metadata": {},
   "outputs": [],
   "source": [
    "# Convert date from string to datetime type\n",
    "\n",
    "df['dateAdded'] = pd.to_datetime(df['dateAdded'])\n",
    "df['updatedDate'] = df['dateAdded'].dt.year.astype(str) + '-' \\\n",
    "    + df['dateAdded'].dt.month.astype('str') + '-' + df['dateAdded'\n",
    "        ].dt.day.astype('str')"
   ]
  },
  {
   "cell_type": "code",
   "execution_count": 14,
   "metadata": {},
   "outputs": [],
   "source": [
    "# Remove duplicate reviews\n",
    "\n",
    "df = df.drop_duplicates(subset='reviews.text', keep='last')"
   ]
  },
  {
   "cell_type": "code",
   "execution_count": 15,
   "metadata": {},
   "outputs": [],
   "source": [
    "# Drop reviews having less than 20 characters\n",
    "\n",
    "df = df[df['reviews.text'].apply(lambda x: len(x.split()) > 20)]"
   ]
  },
  {
   "cell_type": "code",
   "execution_count": 16,
   "metadata": {},
   "outputs": [],
   "source": [
    "# Extract title and text of reviews\n",
    "\n",
    "reviews_title = df[\"reviews.title\"].tolist()\n",
    "reviews_text = df[\"reviews.text\"].tolist()"
   ]
  },
  {
   "cell_type": "code",
   "execution_count": 17,
   "metadata": {},
   "outputs": [],
   "source": [
    "# Remove Punctuations\n",
    "\n",
    "for i in range(len(reviews_text)):\n",
    "    reviews_text[i] = reviews_text[i].translate(str.maketrans('', '',\n",
    "            string.punctuation))\n",
    "    \n",
    "for i in range(len(reviews_title)):\n",
    "    reviews_title[i] = reviews_title[i].translate(str.maketrans('', '',\n",
    "            string.punctuation))"
   ]
  },
  {
   "cell_type": "code",
   "execution_count": 18,
   "metadata": {},
   "outputs": [],
   "source": [
    "# If Review.title not in Review.text then append it to Review.text\n",
    "\n",
    "i = 0\n",
    "j = 0\n",
    "for (i, j) in zip(range(len(reviews_title)),\n",
    "                  range(len(reviews_text))):\n",
    "    if reviews_title[i] not in reviews_text[j]:\n",
    "        reviews_text[j] = reviews_text[j] + ' ' + reviews_title[i]"
   ]
  },
  {
   "cell_type": "code",
   "execution_count": 19,
   "metadata": {},
   "outputs": [],
   "source": [
    "# Remove numbers\n",
    "\n",
    "for text in range(len(reviews_text)):\n",
    "    reviews_text[text] = ''.join(i for i in reviews_text[text]\n",
    "                                 if not i.isdigit())"
   ]
  },
  {
   "cell_type": "code",
   "execution_count": 20,
   "metadata": {},
   "outputs": [],
   "source": [
    "# Convert text to lower case\n",
    "\n",
    "for text in range(len(reviews_text)):\n",
    "    reviews_text[text] = reviews_text[text].lower()"
   ]
  },
  {
   "cell_type": "code",
   "execution_count": 21,
   "metadata": {},
   "outputs": [],
   "source": [
    "for text in range(len(reviews_text)):\n",
    "    reviews_text[text] = ' '.join(reviews_text[text].split())"
   ]
  },
  {
   "cell_type": "markdown",
   "metadata": {},
   "source": [
    "### Text Lemmatization"
   ]
  },
  {
   "cell_type": "code",
   "execution_count": 22,
   "metadata": {},
   "outputs": [
    {
     "name": "stderr",
     "output_type": "stream",
     "text": [
      "[nltk_data] Downloading package wordnet to\n",
      "[nltk_data]     /Users/pujitha.koneru/nltk_data...\n",
      "[nltk_data]   Unzipping corpora/wordnet.zip.\n",
      "[nltk_data] Downloading package punkt to\n",
      "[nltk_data]     /Users/pujitha.koneru/nltk_data...\n",
      "[nltk_data]   Unzipping tokenizers/punkt.zip.\n"
     ]
    }
   ],
   "source": [
    "nltk.download('wordnet')\n",
    "nltk.download('punkt')\n",
    "from nltk.stem.wordnet import WordNetLemmatizer\n",
    "from nltk import word_tokenize\n",
    "\n",
    "lemm = WordNetLemmatizer()\n",
    "\n",
    "lemmatized_word_list = list()\n",
    "\n",
    "for review in reviews_text:\n",
    "    string = review\n",
    "    string = word_tokenize(string)  # tokenize the reviews\n",
    "\n",
    "    string = ' '.join([lemm.lemmatize(w) for w in string])\n",
    "\n",
    "    lemmatized_word_list.append(string)"
   ]
  },
  {
   "cell_type": "markdown",
   "metadata": {},
   "source": [
    "### Identifying Stop Words"
   ]
  },
  {
   "cell_type": "code",
   "execution_count": 23,
   "metadata": {},
   "outputs": [],
   "source": [
    "stop_words = stopwords.words('english')\n",
    "stop_words.extend([\"review\", \"ive\", \"im\", \"a\", \"b\", \"c\", \"d\", \"e\", \"f\", \"g\", \"h\", \"i\", \"j\", \"h\", \"i\", \"j\", \"k\", \"l\", \"m\", \"n\", \"o\", \"p\", \"q\", \"r\", \"s\", \"t\", \"u\", \"v\", \"w\", \"x\", \"y\",\"z\", \"id\", \"em\", \"go\", \"wa\", \"rt\", \"hr\", \"ea\", \"mn\", \"ok\", \"im\", \"ta\", \"ha\", \"us\", \"le\", \"el\", \"cr\", \"bc\", \"yr\", \"mo\", \"op\", \"bv\", \"nd\", \"th\", \"cd\", \"pc\", \"ie\", \"mm\", \"dy\", \"iv\", \"wi\", \"qc\", \"oh\", \"na\", \"cu\", \"ii\", \"hf\", \"av\", \"lg\", \"ad\", \"eg\"])\n",
    "stop_words = list(set(stop_words))\n",
    "\n",
    "filtered_word_list = list()\n",
    "\n",
    "for i in range(0, len(lemmatized_word_list)):\n",
    "    review_text = list()\n",
    "    for word in lemmatized_word_list[i].split():\n",
    "        if word not in stop_words:\n",
    "            review_text.append(word)\n",
    "        else: continue\n",
    "    review_text = ' '.join(review_text)\n",
    "    filtered_word_list.append(review_text)"
   ]
  },
  {
   "cell_type": "markdown",
   "metadata": {},
   "source": [
    "### Word Tokenization"
   ]
  },
  {
   "cell_type": "code",
   "execution_count": 24,
   "metadata": {},
   "outputs": [],
   "source": [
    "# Convert sentences to list of words\n",
    "\n",
    "def sent_to_words(sentences):\n",
    "\n",
    "    for sentence in sentences:\n",
    "        yield gensim.utils.simple_preprocess(str(sentence), deacc=True)\n",
    "\n",
    "data_words = list(sent_to_words(filtered_word_list))\n",
    "\n",
    "# print(data_words[:1])"
   ]
  },
  {
   "cell_type": "code",
   "execution_count": 25,
   "metadata": {},
   "outputs": [],
   "source": [
    "# Build the bigram model; higher threshold will give fewer phrases\n",
    "\n",
    "bigram = gensim.models.Phrases(data_words, min_count=5, threshold=100)\n",
    "bigram_mod = gensim.models.phrases.Phraser(bigram)"
   ]
  },
  {
   "cell_type": "code",
   "execution_count": 26,
   "metadata": {},
   "outputs": [],
   "source": [
    "# Create bigrams\n",
    "\n",
    "def make_bigrams(texts):\n",
    "    return([bigram_mod[doc] for doc in texts])"
   ]
  },
  {
   "cell_type": "code",
   "execution_count": 27,
   "metadata": {},
   "outputs": [
    {
     "name": "stdout",
     "output_type": "stream",
     "text": [
      "[['well', 'looking', 'cheap', 'nonrechargeable', 'battery', 'last', 'quite', 'perfect', 'nothing', 'say']]\n"
     ]
    }
   ],
   "source": [
    "# Form Bigrams\n",
    "\n",
    "data_words_bigrams = make_bigrams(data_words)\n",
    "\n",
    "data_lemmatized = data_words_bigrams\n",
    "\n",
    "print(data_lemmatized[:1])"
   ]
  },
  {
   "cell_type": "code",
   "execution_count": 28,
   "metadata": {},
   "outputs": [
    {
     "name": "stdout",
     "output_type": "stream",
     "text": [
      "[[(0, 1), (1, 1), (2, 1), (3, 1), (4, 1), (5, 1), (6, 1), (7, 1), (8, 1), (9, 1)]]\n"
     ]
    }
   ],
   "source": [
    "# Create Dictionary\n",
    "\n",
    "id2word = corpora.Dictionary(data_lemmatized)\n",
    "\n",
    "# Create Corpus\n",
    "\n",
    "texts = data_lemmatized\n",
    "\n",
    "# Term Document Frequency\n",
    "\n",
    "corpus = [id2word.doc2bow(text) for text in texts]\n",
    "\n",
    "# View\n",
    "\n",
    "print(corpus[:1])"
   ]
  },
  {
   "cell_type": "markdown",
   "metadata": {},
   "source": [
    "### Topic Modeling - Latent Dirichlet Allocation"
   ]
  },
  {
   "cell_type": "code",
   "execution_count": 29,
   "metadata": {},
   "outputs": [],
   "source": [
    "# Calculate the coherence score for the LDA model\n",
    "\n",
    "def compute_coherence_values(\n",
    "    dictionary,\n",
    "    corpus,\n",
    "    texts,\n",
    "    limit,\n",
    "    start=2,\n",
    "    step=1,\n",
    "    ):\n",
    "\n",
    "    coherence_values = []\n",
    "    model_list = []\n",
    "\n",
    "    for num_topics in range(start, limit, step):\n",
    "        model = gensim.models.ldamodel.LdaModel(\n",
    "            corpus=corpus,\n",
    "            id2word=id2word,\n",
    "            num_topics=num_topics,\n",
    "            random_state=100,\n",
    "            update_every=1,\n",
    "            chunksize=100,\n",
    "            passes=10,\n",
    "            alpha='auto',\n",
    "            per_word_topics=True,\n",
    "            )\n",
    "\n",
    "        model_list.append(model)\n",
    "        coherencemodel = CoherenceModel(model=model, texts=texts,\n",
    "                dictionary=dictionary, coherence='c_v')\n",
    "        coherence_values.append(coherencemodel.get_coherence())\n",
    "\n",
    "    return (model_list, coherence_values)"
   ]
  },
  {
   "cell_type": "code",
   "execution_count": 32,
   "metadata": {},
   "outputs": [],
   "source": [
    "(model_list, coherence_values) = compute_coherence_values(\n",
    "    dictionary=id2word,\n",
    "    corpus=corpus,\n",
    "    texts=data_lemmatized,\n",
    "    limit=30,\n",
    "    start=2,\n",
    "    step=1,\n",
    "    )"
   ]
  },
  {
   "cell_type": "markdown",
   "metadata": {},
   "source": [
    "### Evaluating Model Performance"
   ]
  },
  {
   "cell_type": "code",
   "execution_count": 33,
   "metadata": {},
   "outputs": [
    {
     "name": "stdout",
     "output_type": "stream",
     "text": [
      "Number of Topics = 2 has Coherence Value of 0.3104\n",
      "Number of Topics = 3 has Coherence Value of 0.3696\n",
      "Number of Topics = 4 has Coherence Value of 0.3976\n",
      "Number of Topics = 5 has Coherence Value of 0.4301\n",
      "Number of Topics = 6 has Coherence Value of 0.4017\n",
      "Number of Topics = 7 has Coherence Value of 0.4526\n",
      "Number of Topics = 8 has Coherence Value of 0.4314\n",
      "Number of Topics = 9 has Coherence Value of 0.4801\n",
      "Number of Topics = 10 has Coherence Value of 0.4581\n",
      "Number of Topics = 11 has Coherence Value of 0.4133\n",
      "Number of Topics = 12 has Coherence Value of 0.4451\n",
      "Number of Topics = 13 has Coherence Value of 0.4448\n",
      "Number of Topics = 14 has Coherence Value of 0.4293\n",
      "Number of Topics = 15 has Coherence Value of 0.4395\n",
      "Number of Topics = 16 has Coherence Value of 0.3959\n",
      "Number of Topics = 17 has Coherence Value of 0.4278\n",
      "Number of Topics = 18 has Coherence Value of 0.4543\n",
      "Number of Topics = 19 has Coherence Value of 0.4413\n",
      "Number of Topics = 20 has Coherence Value of 0.419\n",
      "Number of Topics = 21 has Coherence Value of 0.4577\n",
      "Number of Topics = 22 has Coherence Value of 0.4285\n",
      "Number of Topics = 23 has Coherence Value of 0.4271\n",
      "Number of Topics = 24 has Coherence Value of 0.416\n",
      "Number of Topics = 25 has Coherence Value of 0.4306\n",
      "Number of Topics = 26 has Coherence Value of 0.4199\n",
      "Number of Topics = 27 has Coherence Value of 0.4297\n",
      "Number of Topics = 28 has Coherence Value of 0.4382\n",
      "Number of Topics = 29 has Coherence Value of 0.422\n"
     ]
    }
   ],
   "source": [
    "# Print the coherence scores\n",
    "\n",
    "limit = 30\n",
    "start = 2\n",
    "step = 1\n",
    "x = range(start, limit, step)\n",
    "\n",
    "max_coherence_score = 0\n",
    "model_number = 0\n",
    "\n",
    "# select the model with the highest coherence score\n",
    "\n",
    "for (m, cv) in zip(x, coherence_values):\n",
    "    if max_coherence_score < cv:\n",
    "        optimal_model = model_list[model_number]\n",
    "        max_coherence_score = cv\n",
    "\n",
    "    model_number += 1\n",
    "\n",
    "    print('Number of Topics = ' + str(m) + ' has Coherence Value of ' + str(round(cv, 4)))\n"
   ]
  },
  {
   "cell_type": "code",
   "execution_count": 34,
   "metadata": {},
   "outputs": [
    {
     "name": "stdout",
     "output_type": "stream",
     "text": [
      "[(0,\n",
      "  '0.039*\"timer\" + 0.026*\"acid\" + 0.017*\"arent\" + 0.015*\"inexpensive\" + '\n",
      "  '0.014*\"extremely\" + 0.013*\"later\" + 0.010*\"talking\" + 0.009*\"played\" + '\n",
      "  '0.008*\"fit\" + 0.008*\"happened\"'),\n",
      " (1,\n",
      "  '0.088*\"battery\" + 0.023*\"great\" + 0.021*\"last\" + 0.020*\"price\" + '\n",
      "  '0.018*\"good\" + 0.018*\"brand\" + 0.015*\"long\" + 0.014*\"work\" + 0.013*\"amazon\" '\n",
      "  '+ 0.011*\"get\"'),\n",
      " (2,\n",
      "  '0.046*\"size\" + 0.045*\"something\" + 0.025*\"plan\" + 0.025*\"regularly\" + '\n",
      "  '0.022*\"roommate\" + 0.022*\"needsplit\" + 0.021*\"operated\" + 0.019*\"bang_buck\" '\n",
      "  '+ 0.017*\"split\" + 0.014*\"digital\"'),\n",
      " (3,\n",
      "  '0.046*\"candle\" + 0.032*\"worked\" + 0.026*\"three\" + 0.016*\"leaked\" + '\n",
      "  '0.015*\"real\" + 0.013*\"put\" + 0.012*\"priced\" + 0.009*\"check\" + '\n",
      "  '0.009*\"separate\" + 0.009*\"string\"'),\n",
      " (4,\n",
      "  '0.055*\"screw\" + 0.033*\"however\" + 0.029*\"cabinet\" + 0.028*\"effect\" + '\n",
      "  '0.028*\"tape\" + 0.028*\"client\" + 0.028*\"interior\" + 0.028*\"underneath\" + '\n",
      "  '0.028*\"decorator\" + 0.028*\"dude\"'),\n",
      " (5,\n",
      "  '0.050*\"lasting\" + 0.040*\"result\" + 0.025*\"rechargeables\" + '\n",
      "  '0.024*\"wonderful\" + 0.024*\"bluetooth\" + 0.021*\"install\" + 0.019*\"uselife\" + '\n",
      "  '0.017*\"rayovac\" + 0.015*\"test\" + 0.011*\"opinion\"'),\n",
      " (6,\n",
      "  '0.034*\"ordered\" + 0.021*\"youll\" + 0.020*\"nice\" + 0.020*\"annoying\" + '\n",
      "  '0.020*\"son\" + 0.019*\"gotten\" + 0.018*\"ahead\" + 0.018*\"must\" + 0.018*\"split\" '\n",
      "  '+ 0.016*\"train\"'),\n",
      " (7,\n",
      "  '0.042*\"month\" + 0.037*\"car\" + 0.032*\"nice\" + 0.024*\"warning\" + 0.021*\"dim\" '\n",
      "  '+ 0.018*\"storing\" + 0.017*\"today\" + 0.016*\"knowing\" + 0.016*\"losing\" + '\n",
      "  '0.015*\"beautiful\"'),\n",
      " (8,\n",
      "  '0.022*\"extra\" + 0.022*\"died\" + 0.020*\"old\" + 0.019*\"waste\" + 0.017*\"though\" '\n",
      "  '+ 0.016*\"turn\" + 0.013*\"wish\" + 0.009*\"smaller\" + 0.009*\"part\" + '\n",
      "  '0.009*\"avoid\"')]\n"
     ]
    }
   ],
   "source": [
    "# Select the model and print the topics (set of keywords)\n",
    "\n",
    "model_topics = optimal_model.show_topics(formatted=False)\n",
    "pprint(optimal_model.print_topics(num_words=10))"
   ]
  },
  {
   "cell_type": "code",
   "execution_count": 35,
   "metadata": {},
   "outputs": [
    {
     "name": "stdout",
     "output_type": "stream",
     "text": [
      "Perplexity Score: -6.834914828234413\n",
      "\n",
      "Coherence Score: 0.4801066061650098\n"
     ]
    }
   ],
   "source": [
    "# Compute Perplexity Score\n",
    "\n",
    "print('Perplexity Score: {0}'.format(optimal_model.log_perplexity(corpus)))\n",
    "\n",
    "# Compute Coherence Score\n",
    "\n",
    "coherence_model_lda = CoherenceModel(model=optimal_model,\n",
    "        texts=data_lemmatized, dictionary=id2word, coherence='c_v')\n",
    "coherence_lda = coherence_model_lda.get_coherence()\n",
    "print('\\nCoherence Score: {0}'.format(coherence_lda))"
   ]
  },
  {
   "cell_type": "markdown",
   "metadata": {},
   "source": [
    "### Visualizing Model Output"
   ]
  },
  {
   "cell_type": "code",
   "execution_count": 36,
   "metadata": {},
   "outputs": [],
   "source": [
    "pyLDAvis.enable_notebook()\n",
    "vis = pyLDAvis.gensim.prepare(optimal_model, corpus, id2word)"
   ]
  },
  {
   "cell_type": "code",
   "execution_count": 37,
   "metadata": {},
   "outputs": [
    {
     "data": {
      "text/html": [
       "\n",
       "<link rel=\"stylesheet\" type=\"text/css\" href=\"https://cdn.rawgit.com/bmabey/pyLDAvis/files/ldavis.v1.0.0.css\">\n",
       "\n",
       "\n",
       "<div id=\"ldavis_el628321123576597281015646289\"></div>\n",
       "<script type=\"text/javascript\">\n",
       "\n",
       "var ldavis_el628321123576597281015646289_data = {\"mdsDat\": {\"x\": [-0.42871566443628434, 0.0671930347608102, 0.06411873397712663, 0.05854843372099898, 0.04942121419701763, 0.05630427361334066, 0.04775239974617255, 0.042857795848012935, 0.042519778572805006], \"y\": [-0.00981930675353636, -0.06594164231500406, -0.275961730640101, 0.09924262559841526, 0.07769768955988719, 0.04287370506456901, 0.043793411401437554, 0.038982175354387624, 0.04913307272994486], \"topics\": [1, 2, 3, 4, 5, 6, 7, 8, 9], \"cluster\": [1, 1, 1, 1, 1, 1, 1, 1, 1], \"Freq\": [81.71199201831061, 3.4325540724607584, 3.0503334250468965, 3.0088763580449966, 2.713030324403267, 2.1384964115906917, 1.7959366732204087, 1.3309023663221307, 0.8178783506002436]}, \"tinfo\": {\"Term\": [\"battery\", \"put\", \"lasting\", \"son\", \"month\", \"nice\", \"candle\", \"car\", \"week\", \"result\", \"size\", \"something\", \"test\", \"ordered\", \"worked\", \"warning\", \"split\", \"two\", \"rechargeables\", \"wonderful\", \"three\", \"bang_buck\", \"bluetooth\", \"dim\", \"little\", \"timer\", \"screw\", \"youll\", \"install\", \"annoying\", \"battery\", \"great\", \"last\", \"price\", \"good\", \"brand\", \"long\", \"work\", \"amazon\", \"get\", \"use\", \"well\", \"time\", \"dont\", \"name\", \"used\", \"aa\", \"remote\", \"buy\", \"like\", \"seem\", \"one\", \"product\", \"light\", \"better\", \"toy\", \"lot\", \"come\", \"many\", \"would\", \"month\", \"car\", \"warning\", \"dim\", \"storing\", \"today\", \"knowing\", \"losing\", \"beautiful\", \"zippy\", \"smoothest\", \"yard\", \"dosappointed\", \"ownded\", \"signal\", \"smooth\", \"distance\", \"leak\", \"guess\", \"kind\", \"generic\", \"minute\", \"easy_open\", \"notice\", \"okay\", \"economical\", \"regular\", \"wrap\", \"note\", \"commercial\", \"nice\", \"plastic\", \"ordered\", \"youll\", \"annoying\", \"gotten\", \"ahead\", \"must\", \"train\", \"environment\", \"thomas\", \"horribly\", \"vice\", \"engine\", \"leaf\", \"seemingly\", \"amazonpro\", \"prewrapped\", \"substance\", \"yuck\", \"musthave\", \"motorized\", \"electronics\", \"replaced\", \"received\", \"affordable\", \"next\", \"delivered\", \"opened\", \"volt\", \"upon\", \"surprised\", \"split\", \"nice\", \"son\", \"lasting\", \"result\", \"rechargeables\", \"wonderful\", \"bluetooth\", \"install\", \"uselife\", \"rayovac\", \"opinion\", \"rayovacs\", \"sitting\", \"perfectly\", \"usage\", \"equipment\", \"capacity\", \"standard\", \"lower\", \"option\", \"coppertops\", \"data\", \"term\", \"live\", \"maxell\", \"performed\", \"given\", \"horrible\", \"meter\", \"monitor\", \"common\", \"mwh\", \"ninja\", \"experience\", \"test\", \"per\", \"candle\", \"three\", \"leaked\", \"real\", \"priced\", \"check\", \"separate\", \"string\", \"gun\", \"pleased\", \"stopped\", \"boy\", \"girlfriend\", \"lantern\", \"single\", \"thru\", \"selling\", \"testing\", \"longest\", \"immediately\", \"side\", \"head\", \"luck\", \"useless\", \"throw\", \"lit\", \"turned\", \"plain\", \"lucky\", \"leading\", \"worked\", \"put\", \"week\", \"size\", \"something\", \"plan\", \"regularly\", \"roommate\", \"needsplit\", \"operated\", \"digital\", \"application\", \"changing\", \"crazy\", \"daughter\", \"soon\", \"worse\", \"wall\", \"question\", \"asking\", \"superior\", \"fully\", \"purpose\", \"damage\", \"hit\", \"paying\", \"easier\", \"serve\", \"positive\", \"mah\", \"length\", \"altra\", \"among\", \"bang_buck\", \"split\", \"worked\", \"extra\", \"died\", \"old\", \"waste\", \"though\", \"turn\", \"wish\", \"smaller\", \"part\", \"avoid\", \"halloween\", \"awhile\", \"child\", \"rest\", \"defective\", \"constantly\", \"fake\", \"player\", \"music\", \"batteriesthey\", \"separated\", \"described\", \"container\", \"moment\", \"certain\", \"program\", \"resale\", \"dump\", \"conveniently\", \"candy\", \"little\", \"timer\", \"acid\", \"arent\", \"inexpensive\", \"extremely\", \"later\", \"talking\", \"played\", \"fit\", \"happened\", \"saw\", \"roku\", \"piece\", \"slightly\", \"triple\", \"compartment\", \"person\", \"room\", \"receive\", \"charging\", \"dispenser\", \"soap\", \"audio\", \"sound\", \"laser\", \"black\", \"pas\", \"childrens\", \"literally\", \"leaky\", \"screw\", \"however\", \"cabinet\", \"effect\", \"client\", \"decorator\", \"tape\", \"stager\", \"interior\", \"dude\", \"underneath\", \"able\", \"except\", \"safe\", \"kept\", \"branded\", \"consumer\", \"absolute\", \"bag\", \"wanted\", \"mind\", \"gripe\", \"bundle\", \"weight\", \"strap\", \"shoulder\", \"ecofriendly\", \"zero\", \"sony\", \"included\"], \"Freq\": [1937.0, 65.0, 41.0, 46.0, 39.0, 47.0, 34.0, 35.0, 62.0, 33.0, 26.0, 26.0, 33.0, 28.0, 27.0, 23.0, 24.0, 74.0, 20.0, 20.0, 19.0, 19.0, 19.0, 20.0, 27.0, 14.0, 12.0, 18.0, 18.0, 17.0, 1936.7237293988428, 497.27992791785067, 453.06829619084976, 430.5330030421721, 402.0708576196338, 399.74252620533105, 321.95939506406745, 317.2032617956443, 291.6187127914163, 244.12961019111737, 229.85282873788324, 223.26288128508116, 219.2177706090845, 215.64918127179305, 215.38312557867482, 197.23527590424277, 193.29298421859875, 191.0018977252769, 190.07120610910607, 189.8206605733737, 161.89399563086164, 164.28317616592847, 148.44550794016945, 141.68058331447457, 138.10750527600587, 133.94752699070722, 130.7965820238191, 129.1473078974496, 127.36172927537788, 125.7428078079986, 39.02164938179223, 34.44262109525373, 22.60771206220542, 19.628253861569977, 16.72907008114768, 16.078595287196542, 14.58615038812145, 14.47859888906401, 14.047956224842117, 13.710226326178681, 13.710226326178681, 13.710226326178681, 13.710226326178681, 13.710226326178681, 13.710226326178681, 13.710226326178681, 13.710226326178681, 10.34500733668627, 9.420571704566536, 7.506012111819393, 6.844354388666666, 6.319837598919456, 5.827678684071211, 5.513108585614828, 5.053712714879589, 4.91208557879209, 4.385697847924453, 4.311669678555247, 4.251011230269164, 4.195434441017967, 29.912468556545708, 10.174164868176758, 27.66587918498628, 17.54184534355657, 16.54501480519811, 15.650077332542661, 15.164985172589708, 14.821521505810571, 13.396253272312395, 13.267640367107747, 12.983403300544193, 12.334504306381106, 11.81911478407263, 11.81911478407263, 11.81911478407263, 11.81911478407263, 11.81911478407263, 11.817680707387362, 11.817680707387362, 11.817680707387362, 11.81184930679123, 11.927540950995848, 10.310544333536805, 9.90649437779183, 9.09830090621867, 9.039818185353198, 7.465517175046847, 6.806610319524013, 6.239705618448455, 5.89909745142204, 5.6908925232991665, 5.178322457104798, 14.467174193941966, 16.866139084896062, 16.474490441491966, 40.532846687205954, 32.44546851818214, 20.066176948057272, 19.627500921241396, 19.29090052367878, 17.419032372474646, 15.798122395810125, 13.599353218001037, 9.012495577544023, 7.366988443957073, 6.881708989704855, 6.6060000962162615, 6.486147582116249, 5.957876433904318, 5.884668952715823, 5.878293480992911, 5.610527072714893, 5.57810052182804, 5.520891858770033, 5.41256670891416, 4.715634907213283, 4.691853974067434, 4.621081547871351, 4.444760948171416, 4.003272769465421, 3.9248661168066388, 3.7658953784855442, 3.492199811763745, 3.3211540298525932, 3.2445182575098217, 3.2445182575098217, 8.298534276623139, 11.95399888997745, 7.157119080235384, 33.61661862055545, 18.830347085633573, 11.439840071366675, 10.669753848642124, 8.615544881498513, 6.749977944613261, 6.637056829529532, 6.611177184047378, 5.970335719748471, 5.918748314047501, 5.438625709727357, 5.174144763696922, 5.134582505585704, 4.771257642913461, 4.628453388089039, 4.597101720681827, 4.585189458056687, 4.585320077215135, 4.488819120412852, 4.391543315756797, 4.373624277053997, 4.245543836662144, 4.2223901413979394, 4.089825337260831, 4.0695776624904525, 3.713491079240924, 3.580792586565666, 3.5189544757851396, 3.511103343548507, 3.4575300491800633, 23.198309039220963, 9.842019218430867, 5.006360191643159, 26.36409467742203, 25.763111517966692, 14.6499500067707, 14.268716651186644, 12.605309615498134, 12.605309615498134, 11.984184292139403, 8.250589263631202, 6.611350781592841, 5.84726254665971, 5.665412634952689, 5.38557935401383, 5.203224060231506, 4.773648758582599, 4.7188588899335775, 4.6482613151376535, 4.57565242721012, 4.431173369409808, 4.001938663021226, 3.9382489622620507, 3.5113210024629278, 3.2498804032221003, 3.1580971043013317, 2.919637948474195, 2.833570843409418, 2.666508464989843, 2.4184212429876593, 2.3206771237808317, 2.1826224667925684, 2.145272446455454, 10.726676483152819, 9.78025929882214, 4.216237060985545, 10.893768904895929, 10.857546374445572, 9.504430053840283, 9.05046635070485, 8.071111603712207, 7.629053510904296, 6.315415612590677, 4.398987109286889, 4.320437984899458, 4.178689521041707, 3.4585924426314265, 3.4527044302119774, 3.3283928903694484, 3.1270301350541407, 2.979385757222757, 2.9545364981065902, 2.8732116706135606, 2.3927000999710266, 2.3836331794238887, 2.362985966822932, 2.3318863525882927, 2.290533004368034, 2.143091583599841, 2.127174918609679, 2.1204473096184757, 2.1152051928139204, 2.0738362672439834, 2.0738362672439834, 2.052749276712998, 2.048279254631594, 2.2097840872956938, 14.002373601493593, 9.501959075337254, 6.044254066096057, 5.318373307813575, 5.2059293465977685, 4.78353472319495, 3.55279144695448, 3.2545987293627183, 3.053682759823469, 2.928104967040992, 2.633883818128039, 2.575716623777834, 2.4794691141309855, 2.380387518237074, 2.2692254205882687, 2.2570723100121697, 1.9350423171802826, 1.8585437376956684, 1.7511611466824826, 1.546025667743164, 1.5180093700493564, 1.5180093700493564, 1.5101162558197128, 1.4888405327949814, 1.4784638288169525, 1.4560849201539017, 1.4259239854116235, 1.381603995931364, 1.3814310062513484, 1.3770869409356399, 12.167572600780536, 7.2019962443957635, 6.441587985192059, 6.196434928273642, 6.099606540117362, 6.099606540117362, 6.099606540117362, 6.099606540117362, 6.099606540117362, 6.099606540117362, 6.099606540117362, 3.9358621249435135, 2.1856648791332294, 2.1743757528042775, 1.8986588596406344, 1.8563084944838595, 1.757108653667352, 1.0692216498816294, 1.0633452465303497, 1.0609910662210682, 1.05708401931246, 0.8636559988383198, 0.789754189084019, 0.7253528920312541, 0.7148653878470951, 0.7148653878470951, 0.7144827744301595, 0.7136311858415588, 0.7058562118430024, 0.7059672483847975], \"Total\": [1937.0, 65.0, 41.0, 46.0, 39.0, 47.0, 34.0, 35.0, 62.0, 33.0, 26.0, 26.0, 33.0, 28.0, 27.0, 23.0, 24.0, 74.0, 20.0, 20.0, 19.0, 19.0, 19.0, 20.0, 27.0, 14.0, 12.0, 18.0, 18.0, 17.0, 1937.2801820624957, 497.8363620325049, 453.6246974549643, 431.08939228100917, 402.6272739591004, 400.298913625916, 322.51576140612036, 317.75967627517855, 292.17515522974946, 244.6861169403582, 230.40927476273563, 223.81931691921218, 219.77420523361783, 216.20562089779463, 215.93948221934863, 197.7917410888092, 193.84942641059237, 191.55840224158604, 190.6276101779304, 190.37713449320944, 162.4503695729137, 164.85573037752266, 149.00200304855974, 142.23735650350528, 138.663979196323, 134.50406525220345, 131.35304872513078, 129.70392236523284, 127.91818788975361, 126.2992354646374, 39.61890565458576, 35.03971462856327, 23.205929936890087, 20.22725185197576, 17.326228065844436, 16.67579167153185, 15.183310637519464, 15.075648747008577, 14.645038869882686, 14.307347528802312, 14.307347528802312, 14.307347528802312, 14.307347528802312, 14.307347528802312, 14.307347528802312, 14.307347528802312, 14.307347528802312, 10.942282398474376, 10.017984328957372, 8.103368586935867, 7.441559543164048, 6.917180565934122, 6.424840967378262, 6.110262600678251, 5.65096301705572, 5.509364402345266, 4.982904311249271, 4.90874264361735, 4.84835787487134, 4.7933437403202905, 47.31083881621096, 18.92645471117249, 28.273836874878306, 18.149471245415704, 17.153014871803816, 16.258745521568038, 15.77363444281874, 15.429076362495477, 14.003734486285175, 13.875289022565335, 13.59091918790445, 12.942083302076693, 12.426722287565266, 12.426722287565266, 12.426722287565266, 12.426722287565266, 12.426722287565266, 12.425437237929874, 12.425437237929874, 12.425437237929874, 12.420087521391167, 12.543430122884688, 10.918085133172404, 10.514153167418351, 9.705898957700544, 9.647440240299865, 8.074049540809362, 7.414256737846617, 6.847512835711412, 6.506774186843584, 6.299356720402316, 5.786475417382008, 24.786061144691065, 47.31083881621096, 46.877017868821675, 41.11860368669583, 33.0311683388064, 20.651795358230782, 20.213199658369035, 19.876593094125123, 18.0098554915492, 16.384122008515668, 14.184878120206902, 9.598183350523044, 7.952503514515177, 7.468521532726422, 7.191724372250279, 7.071711603477095, 6.543484510015566, 6.470370105771341, 6.464026496187104, 6.196176162991231, 6.163935491139676, 6.106435606074356, 5.998429673353331, 5.301594300577521, 5.277622847475795, 5.206788674495847, 5.030881318735129, 4.589104629975522, 4.510786794621833, 4.3514772813867, 4.078194392637987, 3.907076202173274, 3.8300736130534543, 3.8300736130534543, 10.931633691329244, 33.463879665139345, 19.80637747631759, 34.20273993073655, 19.41670760378103, 12.02603946887095, 11.256162509575036, 9.201956274646612, 7.336555427694105, 7.223199254940571, 7.197723082765593, 6.55670828185128, 6.504905629342739, 6.024723040077303, 5.761003839739772, 5.721388823245154, 5.357464337387504, 5.214947487490058, 5.183380555216975, 5.171325197995928, 5.171579344929932, 5.075007351246687, 4.978346428927202, 4.959743303794734, 4.831682778932722, 4.808584216455569, 4.675948389363399, 4.655706850714223, 4.299731301307961, 4.1674682140425725, 4.105864365390571, 4.097811783255442, 4.043735359833056, 27.931309335488116, 65.54282588976113, 62.73891077471976, 26.967285496460867, 26.366714938645686, 15.253118797512894, 14.87190403310597, 13.20879898780786, 13.20879898780786, 12.587844777016, 8.854460447337129, 7.214463239613051, 6.4507182392728915, 6.268643621579319, 5.988824493955042, 5.80657781870129, 5.376962682320177, 5.322147067297478, 5.252083876571208, 5.17942181395673, 5.034446981024772, 4.605342709348831, 4.541507664350465, 4.1161600505233, 3.8532285864073903, 3.761312057909322, 3.522984424566189, 3.436950088019093, 3.2696991584628066, 3.021811914766248, 2.9243608665204652, 2.7857871330012873, 2.748880622880061, 19.10343562252828, 24.786061144691065, 27.931309335488116, 11.489766457004297, 11.45365079826808, 10.100589207699901, 9.646536129238827, 8.667092971006467, 8.225341353589403, 6.911827981579909, 4.994992516485069, 4.9165103102870376, 4.77471933821355, 4.054702649439076, 4.048804191685262, 3.924438735953495, 3.72316318026473, 3.575600213167078, 3.550678971887694, 3.4693060450280333, 2.99033218008118, 2.979552729730653, 2.9593961082590035, 2.92808718171791, 2.8865141999683, 2.739120919437803, 2.7232962546543735, 2.716409079671868, 2.711336396354583, 2.6701415157924795, 2.6701415157924795, 2.6488059426934747, 2.6469671916692663, 27.576628254710485, 14.614362886792465, 10.111771842409246, 6.654258513833898, 5.928310567081237, 5.816185474865608, 5.393690205053877, 4.163084426856793, 3.8646435585882815, 3.6637701734506862, 3.5380189109916214, 3.2439698158305164, 3.1855523867081366, 3.0895026766885096, 2.990241189746129, 2.879024064918115, 2.8670503892956853, 2.5452061595951565, 2.4684167860137807, 2.3617326814567248, 2.1560153376701834, 2.1279182501513034, 2.1279182501513034, 2.1209533140958543, 2.0986466379260618, 2.0887287908361603, 2.0659338784038437, 2.0358523601776963, 1.9913619465050183, 1.9917942589414006, 1.9869345770026212, 12.806643203892357, 7.841088870248441, 7.080571721722415, 6.835477383059395, 6.738705018389545, 6.738705018389545, 6.738705018389545, 6.738705018389545, 6.738705018389545, 6.738705018389545, 6.738705018389545, 4.574986771564809, 2.8247741975710348, 2.8134465097104764, 2.5382736248674105, 2.4953117609776383, 2.3969728588246983, 1.708172565430961, 1.7024211579465023, 1.7011201105716298, 1.6971722316509055, 1.5025558058553594, 1.4288767710524035, 1.3642936874453486, 1.3538583752389197, 1.3538583752389197, 1.3536968194558985, 1.3528145693015385, 1.3449470972818172, 1.3465959069876776], \"Category\": [\"Default\", \"Default\", \"Default\", \"Default\", \"Default\", \"Default\", \"Default\", \"Default\", \"Default\", \"Default\", \"Default\", \"Default\", \"Default\", \"Default\", \"Default\", \"Default\", \"Default\", \"Default\", \"Default\", \"Default\", \"Default\", \"Default\", \"Default\", \"Default\", \"Default\", \"Default\", \"Default\", \"Default\", \"Default\", \"Default\", \"Topic1\", \"Topic1\", \"Topic1\", \"Topic1\", \"Topic1\", \"Topic1\", \"Topic1\", \"Topic1\", \"Topic1\", \"Topic1\", \"Topic1\", \"Topic1\", \"Topic1\", \"Topic1\", \"Topic1\", \"Topic1\", \"Topic1\", \"Topic1\", \"Topic1\", \"Topic1\", \"Topic1\", \"Topic1\", \"Topic1\", \"Topic1\", \"Topic1\", \"Topic1\", \"Topic1\", \"Topic1\", \"Topic1\", \"Topic1\", \"Topic2\", \"Topic2\", \"Topic2\", \"Topic2\", \"Topic2\", \"Topic2\", \"Topic2\", \"Topic2\", \"Topic2\", \"Topic2\", \"Topic2\", \"Topic2\", \"Topic2\", \"Topic2\", \"Topic2\", \"Topic2\", \"Topic2\", \"Topic2\", \"Topic2\", \"Topic2\", \"Topic2\", \"Topic2\", \"Topic2\", \"Topic2\", \"Topic2\", \"Topic2\", \"Topic2\", \"Topic2\", \"Topic2\", \"Topic2\", \"Topic2\", \"Topic2\", \"Topic3\", \"Topic3\", \"Topic3\", \"Topic3\", \"Topic3\", \"Topic3\", \"Topic3\", \"Topic3\", \"Topic3\", \"Topic3\", \"Topic3\", \"Topic3\", \"Topic3\", \"Topic3\", \"Topic3\", \"Topic3\", \"Topic3\", \"Topic3\", \"Topic3\", \"Topic3\", \"Topic3\", \"Topic3\", \"Topic3\", \"Topic3\", \"Topic3\", \"Topic3\", \"Topic3\", \"Topic3\", \"Topic3\", \"Topic3\", \"Topic3\", \"Topic3\", \"Topic3\", \"Topic4\", \"Topic4\", \"Topic4\", \"Topic4\", \"Topic4\", \"Topic4\", \"Topic4\", \"Topic4\", \"Topic4\", \"Topic4\", \"Topic4\", \"Topic4\", \"Topic4\", \"Topic4\", \"Topic4\", \"Topic4\", \"Topic4\", \"Topic4\", \"Topic4\", \"Topic4\", \"Topic4\", \"Topic4\", \"Topic4\", \"Topic4\", \"Topic4\", \"Topic4\", \"Topic4\", \"Topic4\", \"Topic4\", \"Topic4\", \"Topic4\", \"Topic4\", \"Topic4\", \"Topic4\", \"Topic5\", \"Topic5\", \"Topic5\", \"Topic5\", \"Topic5\", \"Topic5\", \"Topic5\", \"Topic5\", \"Topic5\", \"Topic5\", \"Topic5\", \"Topic5\", \"Topic5\", \"Topic5\", \"Topic5\", \"Topic5\", \"Topic5\", \"Topic5\", \"Topic5\", \"Topic5\", \"Topic5\", \"Topic5\", \"Topic5\", \"Topic5\", \"Topic5\", \"Topic5\", \"Topic5\", \"Topic5\", \"Topic5\", \"Topic5\", \"Topic5\", \"Topic5\", \"Topic5\", \"Topic6\", \"Topic6\", \"Topic6\", \"Topic6\", \"Topic6\", \"Topic6\", \"Topic6\", \"Topic6\", \"Topic6\", \"Topic6\", \"Topic6\", \"Topic6\", \"Topic6\", \"Topic6\", \"Topic6\", \"Topic6\", \"Topic6\", \"Topic6\", \"Topic6\", \"Topic6\", \"Topic6\", \"Topic6\", \"Topic6\", \"Topic6\", \"Topic6\", \"Topic6\", \"Topic6\", \"Topic6\", \"Topic6\", \"Topic6\", \"Topic6\", \"Topic6\", \"Topic6\", \"Topic7\", \"Topic7\", \"Topic7\", \"Topic7\", \"Topic7\", \"Topic7\", \"Topic7\", \"Topic7\", \"Topic7\", \"Topic7\", \"Topic7\", \"Topic7\", \"Topic7\", \"Topic7\", \"Topic7\", \"Topic7\", \"Topic7\", \"Topic7\", \"Topic7\", \"Topic7\", \"Topic7\", \"Topic7\", \"Topic7\", \"Topic7\", \"Topic7\", \"Topic7\", \"Topic7\", \"Topic7\", \"Topic7\", \"Topic7\", \"Topic7\", \"Topic8\", \"Topic8\", \"Topic8\", \"Topic8\", \"Topic8\", \"Topic8\", \"Topic8\", \"Topic8\", \"Topic8\", \"Topic8\", \"Topic8\", \"Topic8\", \"Topic8\", \"Topic8\", \"Topic8\", \"Topic8\", \"Topic8\", \"Topic8\", \"Topic8\", \"Topic8\", \"Topic8\", \"Topic8\", \"Topic8\", \"Topic8\", \"Topic8\", \"Topic8\", \"Topic8\", \"Topic8\", \"Topic8\", \"Topic8\", \"Topic9\", \"Topic9\", \"Topic9\", \"Topic9\", \"Topic9\", \"Topic9\", \"Topic9\", \"Topic9\", \"Topic9\", \"Topic9\", \"Topic9\", \"Topic9\", \"Topic9\", \"Topic9\", \"Topic9\", \"Topic9\", \"Topic9\", \"Topic9\", \"Topic9\", \"Topic9\", \"Topic9\", \"Topic9\", \"Topic9\", \"Topic9\", \"Topic9\", \"Topic9\", \"Topic9\", \"Topic9\", \"Topic9\", \"Topic9\"], \"logprob\": [30.0, 29.0, 28.0, 27.0, 26.0, 25.0, 24.0, 23.0, 22.0, 21.0, 20.0, 19.0, 18.0, 17.0, 16.0, 15.0, 14.0, 13.0, 12.0, 11.0, 10.0, 9.0, 8.0, 7.0, 6.0, 5.0, 4.0, 3.0, 2.0, 1.0, -2.4326999187469482, -3.79229998588562, -3.8854000568389893, -3.9363999366760254, -4.004799842834473, -4.0106000900268555, -4.2270002365112305, -4.2418999671936035, -4.326000213623047, -4.503699779510498, -4.564000129699707, -4.593100070953369, -4.611400127410889, -4.627799987792969, -4.629000186920166, -4.7170000076293945, -4.737199783325195, -4.749199867248535, -4.754000186920166, -4.75540018081665, -4.9145002365112305, -4.899799823760986, -5.001200199127197, -5.047900199890137, -5.073400020599365, -5.104000091552734, -5.127799987792969, -5.140500068664551, -5.154399871826172, -5.167200088500977, -3.1673998832702637, -3.2922000885009766, -3.713200092315674, -3.854599952697754, -4.014400005340576, -4.054100036621094, -4.151500225067139, -4.158899784088135, -4.1890997886657715, -4.213399887084961, -4.213399887084961, -4.213399887084961, -4.213399887084961, -4.213399887084961, -4.213399887084961, -4.213399887084961, -4.213399887084961, -4.494999885559082, -4.588600158691406, -4.815800189971924, -4.908100128173828, -4.987800121307373, -5.068900108337402, -5.1244001388549805, -5.211400032043457, -5.239799976348877, -5.3531999588012695, -5.370200157165527, -5.384399890899658, -5.397500038146973, -3.433300018310547, -4.51170015335083, -3.3933000564575195, -3.848900079727173, -3.907399892807007, -3.9630000591278076, -3.994499921798706, -4.017399787902832, -4.118500232696533, -4.128200054168701, -4.149799823760986, -4.201099872589111, -4.243800163269043, -4.243800163269043, -4.243800163269043, -4.243800163269043, -4.243800163269043, -4.243899822235107, -4.243899822235107, -4.243899822235107, -4.2444000244140625, -4.234600067138672, -4.380300045013428, -4.420300006866455, -4.50540018081665, -4.5117998123168945, -4.703199863433838, -4.795599937438965, -4.882599830627441, -4.938700199127197, -4.974599838256836, -5.068999767303467, -4.041600227355957, -3.888200044631958, -3.9117000102996826, -2.9976999759674072, -3.2202000617980957, -3.7007999420166016, -3.722899913787842, -3.7402000427246094, -3.8422000408172607, -3.9398999214172363, -4.089799880981445, -4.501200199127197, -4.7027997970581055, -4.770899772644043, -4.811800003051758, -4.830100059509277, -4.91510009765625, -4.927499771118164, -4.928500175476074, -4.975200176239014, -4.980999946594238, -4.991300106048584, -5.011099815368652, -5.148900032043457, -5.1539998054504395, -5.1691999435424805, -5.208099842071533, -5.312699794769287, -5.332499980926514, -5.373799800872803, -5.4492998123168945, -5.499499797821045, -5.522799968719482, -5.522799968719482, -4.583700180053711, -4.218699932098389, -4.7316999435424805, -3.0813000202178955, -3.660799980163574, -4.159200191497803, -4.228899955749512, -4.442699909210205, -4.686800003051758, -4.70359992980957, -4.707499980926514, -4.809500217437744, -4.81820011138916, -4.9028000831604, -4.952600002288818, -4.960299968719482, -5.033699989318848, -5.0640997886657715, -5.070899963378906, -5.073500156402588, -5.073400020599365, -5.094699859619141, -5.116600036621094, -5.120699882507324, -5.150400161743164, -5.155900001525879, -5.18779993057251, -5.192800045013428, -5.284299850463867, -5.320700168609619, -5.338099956512451, -5.340400218963623, -5.3557000160217285, -3.452199935913086, -4.309599876403809, -4.985599994659424, -3.0862998962402344, -3.1094000339508057, -3.6738998889923096, -3.7002999782562256, -3.824199914932251, -3.824199914932251, -3.874799966812134, -4.2480998039245605, -4.469600200653076, -4.592400074005127, -4.624000072479248, -4.674600124359131, -4.709099769592285, -4.795199871063232, -4.80679988861084, -4.821800231933594, -4.837600231170654, -4.869699954986572, -4.97160005569458, -4.987599849700928, -5.10230016708374, -5.179699897766113, -5.208399772644043, -5.286900043487549, -5.316800117492676, -5.377600193023682, -5.475200176239014, -5.516499996185303, -5.5777997970581055, -5.595099925994873, -3.985599994659424, -4.078000068664551, -4.919400215148926, -3.795599937438965, -3.7988998889923096, -3.931999921798706, -3.9809000492095947, -4.0954999923706055, -4.151800155639648, -4.340799808502197, -4.702400207519531, -4.720399856567383, -4.753799915313721, -4.94290018081665, -4.9446001052856445, -4.981299877166748, -5.043700218200684, -5.0920000076293945, -5.100399971008301, -5.128300189971924, -5.311299800872803, -5.315100193023682, -5.323800086975098, -5.337100028991699, -5.355000019073486, -5.421500205993652, -5.428999900817871, -5.43209981918335, -5.434599876403809, -5.454400062561035, -5.454400062561035, -5.464600086212158, -5.466800212860107, -5.390900135040283, -3.2448999881744385, -3.6326000690460205, -4.085000038146973, -4.212900161743164, -4.234300136566162, -4.318900108337402, -4.616399765014648, -4.703999996185303, -4.7677001953125, -4.809700012207031, -4.915599822998047, -4.938000202178955, -4.97599983215332, -5.0167999267578125, -5.064700126647949, -5.070000171661377, -5.223999977111816, -5.2642998695373535, -5.323800086975098, -5.448400020599365, -5.466700077056885, -5.466700077056885, -5.47189998626709, -5.486100196838379, -5.493100166320801, -5.508299827575684, -5.529300212860107, -5.560800075531006, -5.560999870300293, -5.5640997886657715, -2.898400068283081, -3.422800064086914, -3.53439998626709, -3.573199987411499, -3.5889999866485596, -3.5889999866485596, -3.5889999866485596, -3.5889999866485596, -3.5889999866485596, -3.5889999866485596, -3.5889999866485596, -4.027100086212158, -4.615300178527832, -4.620500087738037, -4.75600004196167, -4.778600215911865, -4.833499908447266, -5.3302998542785645, -5.3358001708984375, -5.3379998207092285, -5.341700077056885, -5.543799877166748, -5.633200168609619, -5.718299865722656, -5.732900142669678, -5.732900142669678, -5.733399868011475, -5.734600067138672, -5.745500087738037, -5.7453999519348145], \"loglift\": [30.0, 29.0, 28.0, 27.0, 26.0, 25.0, 24.0, 23.0, 22.0, 21.0, 20.0, 19.0, 18.0, 17.0, 16.0, 15.0, 14.0, 13.0, 12.0, 11.0, 10.0, 9.0, 8.0, 7.0, 6.0, 5.0, 4.0, 3.0, 2.0, 1.0, 0.2017, 0.2009, 0.2007, 0.2007, 0.2006, 0.2006, 0.2002, 0.2002, 0.2001, 0.1997, 0.1996, 0.1995, 0.1994, 0.1994, 0.1994, 0.1992, 0.1991, 0.1991, 0.199, 0.199, 0.1985, 0.1985, 0.1982, 0.198, 0.1979, 0.1978, 0.1977, 0.1977, 0.1976, 0.1976, 3.3567, 3.3547, 3.3457, 3.3418, 3.3368, 3.3354, 3.3317, 3.3315, 3.3302, 3.3292, 3.3292, 3.3292, 3.3292, 3.3292, 3.3292, 3.3292, 3.3292, 3.3157, 3.3104, 3.2953, 3.2882, 3.2816, 3.2743, 3.269, 3.2602, 3.2571, 3.2442, 3.2422, 3.2404, 3.2386, 2.9134, 2.7512, 3.4682, 3.4559, 3.4538, 3.4518, 3.4506, 3.4497, 3.4456, 3.4451, 3.4442, 3.4418, 3.4398, 3.4398, 3.4398, 3.4398, 3.4398, 3.4398, 3.4398, 3.4398, 3.4397, 3.4396, 3.4327, 3.4304, 3.4253, 3.4249, 3.4116, 3.4044, 3.397, 3.3919, 3.3883, 3.3789, 2.9515, 2.4585, 2.4442, 3.4893, 3.4857, 3.4748, 3.4742, 3.4737, 3.4702, 3.4672, 3.4614, 3.4406, 3.4271, 3.4218, 3.4187, 3.4172, 3.4098, 3.4087, 3.4086, 3.4043, 3.4037, 3.4028, 3.4008, 3.3865, 3.386, 3.3843, 3.3797, 3.367, 3.3645, 3.3591, 3.3485, 3.3411, 3.3377, 3.3377, 3.228, 2.4742, 2.4857, 3.5898, 3.5764, 3.5571, 3.5536, 3.5413, 3.5238, 3.5225, 3.5221, 3.5134, 3.5127, 3.5048, 3.4997, 3.4989, 3.4912, 3.4878, 3.4871, 3.4868, 3.4868, 3.4844, 3.4817, 3.4813, 3.4778, 3.4771, 3.4732, 3.4725, 3.4605, 3.4554, 3.4529, 3.4526, 3.4505, 3.4214, 1.7111, 1.0788, 3.8224, 3.8219, 3.8047, 3.8037, 3.7983, 3.7983, 3.7959, 3.7744, 3.7578, 3.7468, 3.7439, 3.7389, 3.7354, 3.7261, 3.7248, 3.7229, 3.7211, 3.7174, 3.7046, 3.7025, 3.6861, 3.6748, 3.6703, 3.6572, 3.652, 3.6411, 3.6223, 3.6139, 3.6011, 3.5971, 3.2679, 2.9152, 1.9543, 3.9664, 3.9662, 3.9588, 3.9559, 3.9484, 3.9444, 3.9294, 3.8926, 3.8904, 3.8863, 3.8606, 3.8604, 3.8549, 3.8452, 3.8372, 3.8358, 3.8311, 3.7967, 3.7965, 3.7946, 3.792, 3.7884, 3.7743, 3.7726, 3.772, 3.7714, 3.7669, 3.7669, 3.7647, 3.7632, 1.4956, 4.2765, 4.2571, 4.2232, 4.2107, 4.2085, 4.1993, 4.1608, 4.1475, 4.1372, 4.1301, 4.111, 4.1068, 4.0993, 4.0912, 4.0813, 4.0801, 4.0452, 4.0355, 4.0202, 3.9867, 3.9816, 3.9816, 3.9796, 3.976, 3.9738, 3.9695, 3.9632, 3.9537, 3.9534, 3.9527, 4.755, 4.7212, 4.7116, 4.7081, 4.7066, 4.7066, 4.7066, 4.7066, 4.7066, 4.7066, 4.7066, 4.6557, 4.5497, 4.5485, 4.5159, 4.5104, 4.4957, 4.3377, 4.3356, 4.3341, 4.3328, 4.2525, 4.2133, 4.1745, 4.1676, 4.1676, 4.1672, 4.1666, 4.1615, 4.1604]}, \"token.table\": {\"Topic\": [1, 9, 9, 8, 3, 3, 6, 1, 3, 6, 3, 6, 8, 6, 8, 7, 7, 9, 1, 6, 7, 1, 2, 1, 8, 4, 5, 1, 9, 9, 1, 9, 5, 7, 4, 2, 7, 6, 8, 5, 7, 8, 9, 1, 2, 4, 8, 7, 9, 7, 7, 4, 6, 6, 4, 6, 9, 7, 3, 7, 7, 6, 2, 8, 2, 1, 2, 9, 7, 6, 2, 9, 2, 9, 3, 3, 3, 4, 9, 4, 5, 7, 8, 7, 8, 6, 2, 1, 5, 4, 1, 3, 1, 9, 2, 5, 7, 8, 5, 6, 4, 3, 9, 5, 9, 8, 4, 9, 9, 2, 2, 5, 8, 1, 4, 8, 5, 3, 2, 5, 8, 6, 1, 1, 5, 8, 1, 7, 4, 1, 5, 2, 1, 4, 5, 5, 6, 1, 4, 4, 9, 2, 7, 4, 2, 3, 7, 3, 3, 4, 1, 6, 3, 2, 3, 4, 2, 2, 2, 7, 1, 3, 6, 4, 4, 3, 2, 7, 8, 6, 1, 4, 4, 4, 8, 8, 5, 6, 1, 2, 8, 7, 5, 6, 3, 1, 5, 1, 7, 6, 1, 5, 6, 4, 4, 5, 8, 3, 4, 2, 6, 1, 3, 7, 7, 4, 8, 8, 6, 9, 8, 9, 1, 3, 5, 5, 7, 6, 9, 5, 2, 5, 4, 6, 8, 7, 2, 2, 8, 6, 1, 3, 9, 6, 8, 3, 6, 9, 4, 5, 2, 9, 5, 3, 6, 3, 8, 9, 4, 1, 4, 5, 3, 7, 5, 5, 5, 1, 8, 2, 1, 3, 8, 7, 5, 1, 2, 5, 9, 3, 4, 1, 1, 5, 4, 3, 3, 6, 9, 2, 7, 1, 5, 9, 1, 7, 4, 1, 5, 6, 6, 1, 2, 2, 3, 3, 9, 2], \"Freq\": [0.995618112334296, 0.8743194679515667, 0.5854209464766262, 0.9889463642820273, 0.9328899455012596, 0.9509539513151991, 0.7179299438594527, 0.9994005129231069, 0.9656609138201903, 0.7275688814396594, 0.9910794182277926, 0.9702731537343652, 0.901678224181744, 0.9653587175554517, 0.9429721940167194, 0.8377455755329466, 0.7409595174202013, 0.5873987146671873, 0.4187728405546994, 0.5758126557627117, 0.6758135534538461, 0.9998553734947119, 0.9559551274930926, 0.9952115956849693, 0.4840425971292981, 0.9558982220960082, 0.8679042991621845, 0.9992532739516867, 0.8015030551598971, 0.699850414156761, 0.9967076638198182, 0.8473891990377924, 0.9940724067385504, 0.7555817111351247, 0.9273039875490604, 0.9703275372078595, 0.7362661297839546, 0.9301289836953575, 0.9276371856246739, 0.954126233896677, 0.7644405230525556, 0.5021688808280539, 0.8903787869666856, 0.9945728521358771, 0.834490538692875, 0.7678375963927395, 0.6975810426866326, 0.8449088255379705, 0.8343857514434497, 0.7301612666338566, 0.7550572005914002, 0.9825699290157944, 0.9571448565596338, 0.9717795107339103, 0.8335514913530404, 0.8348883833625221, 0.8903787869666856, 0.8390199745912752, 0.9441270038934567, 0.6928772427386514, 0.9603924716880073, 0.9034994337126326, 0.9887650653861038, 0.9398857309757046, 0.9785182034487114, 0.9990489567433964, 0.9785182034487114, 0.8903787869666856, 0.7490239705165641, 0.851550741774685, 0.9338752555066552, 0.738717847030133, 0.9075457048859509, 0.8777733673539776, 0.9159115245966541, 0.9656609138201903, 0.9369174205206209, 0.9169426458970447, 0.7080211939487974, 0.7318210823644267, 0.18295527059110667, 0.9573736804105596, 0.8596699712564673, 0.8647262481496524, 0.818828654084074, 0.8685564251016571, 0.9406630370149127, 0.9971959302434578, 0.8739136867757951, 0.8716297235570625, 0.9984420480189224, 0.9840857634911132, 0.9983200061379801, 0.6655326851109735, 0.8983843160929241, 0.9150933276393847, 0.7398816286602465, 0.8479321551051778, 0.8278689191767608, 0.7785678769701775, 0.8867632592986131, 0.9272077547263565, 0.8927331542638425, 0.8034796407010935, 0.7426132775325232, 0.8434106046609693, 0.9439276182963792, 0.8903787869666856, 0.7879371161588113, 0.9872437510614394, 0.9879268334887067, 0.9332773276915891, 0.4787600977145912, 0.998622876006379, 0.997115571151211, 0.9270091180459363, 0.7418883119304459, 0.9656609138201903, 0.9138861195351937, 0.9146818475420089, 0.503287834221771, 0.6839101230279042, 0.9983312646597209, 0.9980190137107937, 0.9302906902073662, 0.5020598867131388, 0.9065647826517602, 0.07252518261214082, 0.9473962320728209, 0.9984008179821299, 0.7881761982112974, 0.9286499198104483, 0.9973122152202987, 0.9683391566297034, 0.8318456784663366, 0.9761307281961747, 0.6618545615717812, 0.9928220692858395, 0.9602847959801499, 0.9192280555180347, 0.589215390960799, 0.8674054324313764, 0.7344041238928042, 0.7356196667367405, 0.9843785272621702, 0.9566761151008261, 0.6712416867281945, 0.9721904051535798, 0.9661767664142745, 0.7832747625987028, 0.995649326331188, 0.9841924320295442, 0.8669751113885664, 0.6341041662047336, 0.3593256941826824, 0.7832747625987028, 0.825021605919746, 0.9819545234167167, 0.8848049411948042, 0.9900412534723004, 0.9948092166674278, 0.8762305590299253, 0.9533006016971755, 0.9376774407533643, 0.9734040871493018, 0.9903148314786517, 0.9785182034487114, 0.8135851950987713, 0.4911947543743872, 0.7975940187391717, 0.6058654599685558, 0.3534215183149909, 0.9733409732733835, 0.7950893186654789, 0.7857909633214633, 0.6473533799115218, 0.9742163023496515, 0.983405439840004, 0.422688777274146, 0.5283609715926825, 0.776268226168799, 0.6688220169391699, 0.9223807910348186, 0.9175156045274817, 0.9657607833202695, 0.9997926363241365, 0.9780528978166256, 0.9932752377279573, 0.7376436220488976, 0.8807647802510288, 0.8391459973438817, 0.1525719995170694, 0.952003074875533, 0.9869665344573151, 0.8802259549113514, 0.9772424652400734, 0.846835891167155, 0.9272711409033892, 0.9684388041366578, 0.8027446946893415, 0.941372400523494, 0.9970849504117193, 0.9510989464171372, 0.7490239705165641, 0.8057664557658979, 0.9687819598680395, 0.9417518960032293, 0.8102359420548984, 0.9841924320295442, 0.7108718765745485, 0.9247928218567424, 0.9370136896101555, 0.997227648209741, 0.9656609138201903, 0.9668701558234392, 0.9690996680192775, 0.683039771659599, 0.8728669090824849, 0.7386296959041427, 0.8064933515691372, 0.9785182034487114, 0.9587824253253389, 0.9372671645019164, 0.9641311508127945, 0.6688423685882675, 0.800802000563309, 0.9785182034487114, 0.9785182034487114, 0.9398857309757046, 0.9860917471327385, 0.6399724505502998, 0.34131864029349324, 0.7435236687160657, 0.8610923948864444, 0.47649755891645795, 0.5648335941024928, 0.40345256721606626, 0.8903787869666856, 0.9282140169968646, 0.8299136685187516, 0.9811714318543725, 0.7386296959041427, 0.9725297735836731, 0.9657607833202695, 0.7945261942525795, 0.8640838575033927, 0.9608260582454906, 0.8903787869666856, 0.9431125273873433, 0.6275422996418594, 0.3585955997953482, 0.966822640921454, 0.9565210285092157, 0.9230315201142927, 0.9785387094308468, 0.8591606233511819, 0.9646214370595642, 0.9964772697833448, 0.957961705785499, 0.9594746873286063, 0.9962524162280278, 0.9283237991074308, 0.6946798480675026, 0.9726040119306334, 0.9598153590042326, 0.9446451372233823, 0.02698986106352521, 0.02698986106352521, 0.8903787869666856, 0.9524782079045053, 0.8484508894635715, 0.9982237053471172, 0.9959970973284789, 0.855441434960871, 0.9765552277799189, 0.9656609138201903, 0.9221159099284159, 0.9394704687367723, 0.58784796780985, 0.9911259778233354, 0.9329773795923322, 0.9085270894273763, 0.07969535872169967, 0.7329800095113747, 0.9963393824514802, 0.8680771593260221, 0.9894524537444639, 0.9976092741404965, 0.8234486870537557, 0.14320846731369666, 0.9298930075226938, 0.9976307420742765, 0.814872624296376, 0.9785182034487114, 0.9917644297514475, 0.9657607833202695, 0.7391996084994135, 0.9785182034487114], \"Term\": [\"aa\", \"able\", \"absolute\", \"acid\", \"affordable\", \"ahead\", \"altra\", \"amazon\", \"amazonpro\", \"among\", \"annoying\", \"application\", \"arent\", \"asking\", \"audio\", \"avoid\", \"awhile\", \"bag\", \"bang_buck\", \"bang_buck\", \"batteriesthey\", \"battery\", \"beautiful\", \"better\", \"black\", \"bluetooth\", \"boy\", \"brand\", \"branded\", \"bundle\", \"buy\", \"cabinet\", \"candle\", \"candy\", \"capacity\", \"car\", \"certain\", \"changing\", \"charging\", \"check\", \"child\", \"childrens\", \"client\", \"come\", \"commercial\", \"common\", \"compartment\", \"constantly\", \"consumer\", \"container\", \"conveniently\", \"coppertops\", \"crazy\", \"damage\", \"data\", \"daughter\", \"decorator\", \"defective\", \"delivered\", \"described\", \"died\", \"digital\", \"dim\", \"dispenser\", \"distance\", \"dont\", \"dosappointed\", \"dude\", \"dump\", \"easier\", \"easy_open\", \"ecofriendly\", \"economical\", \"effect\", \"electronics\", \"engine\", \"environment\", \"equipment\", \"except\", \"experience\", \"experience\", \"extra\", \"extremely\", \"fake\", \"fit\", \"fully\", \"generic\", \"get\", \"girlfriend\", \"given\", \"good\", \"gotten\", \"great\", \"gripe\", \"guess\", \"gun\", \"halloween\", \"happened\", \"head\", \"hit\", \"horrible\", \"horribly\", \"however\", \"immediately\", \"included\", \"inexpensive\", \"install\", \"interior\", \"kept\", \"kind\", \"knowing\", \"lantern\", \"laser\", \"last\", \"lasting\", \"later\", \"leading\", \"leaf\", \"leak\", \"leaked\", \"leaky\", \"length\", \"light\", \"like\", \"lit\", \"literally\", \"little\", \"little\", \"live\", \"long\", \"longest\", \"losing\", \"lot\", \"lower\", \"luck\", \"lucky\", \"mah\", \"many\", \"maxell\", \"meter\", \"mind\", \"minute\", \"moment\", \"monitor\", \"month\", \"motorized\", \"music\", \"must\", \"musthave\", \"mwh\", \"name\", \"needsplit\", \"next\", \"nice\", \"nice\", \"ninja\", \"note\", \"notice\", \"okay\", \"old\", \"one\", \"opened\", \"operated\", \"opinion\", \"option\", \"ordered\", \"ownded\", \"part\", \"pas\", \"paying\", \"per\", \"per\", \"perfectly\", \"performed\", \"person\", \"piece\", \"plain\", \"plan\", \"plastic\", \"plastic\", \"played\", \"player\", \"pleased\", \"positive\", \"prewrapped\", \"price\", \"priced\", \"product\", \"program\", \"purpose\", \"put\", \"put\", \"question\", \"rayovac\", \"rayovacs\", \"real\", \"receive\", \"received\", \"rechargeables\", \"regular\", \"regularly\", \"remote\", \"replaced\", \"resale\", \"rest\", \"result\", \"roku\", \"room\", \"roommate\", \"safe\", \"saw\", \"screw\", \"seem\", \"seemingly\", \"selling\", \"separate\", \"separated\", \"serve\", \"shoulder\", \"side\", \"signal\", \"single\", \"sitting\", \"size\", \"slightly\", \"smaller\", \"smooth\", \"smoothest\", \"soap\", \"something\", \"son\", \"son\", \"sony\", \"soon\", \"sound\", \"split\", \"split\", \"stager\", \"standard\", \"stopped\", \"storing\", \"strap\", \"string\", \"substance\", \"superior\", \"surprised\", \"talking\", \"tape\", \"term\", \"test\", \"test\", \"testing\", \"thomas\", \"though\", \"three\", \"throw\", \"thru\", \"time\", \"timer\", \"today\", \"toy\", \"train\", \"triple\", \"turn\", \"turned\", \"two\", \"two\", \"two\", \"underneath\", \"upon\", \"usage\", \"use\", \"used\", \"useless\", \"uselife\", \"vice\", \"volt\", \"wall\", \"wanted\", \"warning\", \"waste\", \"week\", \"week\", \"weight\", \"well\", \"wish\", \"wonderful\", \"work\", \"worked\", \"worked\", \"worse\", \"would\", \"wrap\", \"yard\", \"youll\", \"yuck\", \"zero\", \"zippy\"]}, \"R\": 30, \"lambda.step\": 0.01, \"plot.opts\": {\"xlab\": \"PC1\", \"ylab\": \"PC2\"}, \"topic.order\": [2, 8, 7, 6, 4, 3, 9, 1, 5]};\n",
       "\n",
       "function LDAvis_load_lib(url, callback){\n",
       "  var s = document.createElement('script');\n",
       "  s.src = url;\n",
       "  s.async = true;\n",
       "  s.onreadystatechange = s.onload = callback;\n",
       "  s.onerror = function(){console.warn(\"failed to load library \" + url);};\n",
       "  document.getElementsByTagName(\"head\")[0].appendChild(s);\n",
       "}\n",
       "\n",
       "if(typeof(LDAvis) !== \"undefined\"){\n",
       "   // already loaded: just create the visualization\n",
       "   !function(LDAvis){\n",
       "       new LDAvis(\"#\" + \"ldavis_el628321123576597281015646289\", ldavis_el628321123576597281015646289_data);\n",
       "   }(LDAvis);\n",
       "}else if(typeof define === \"function\" && define.amd){\n",
       "   // require.js is available: use it to load d3/LDAvis\n",
       "   require.config({paths: {d3: \"https://cdnjs.cloudflare.com/ajax/libs/d3/3.5.5/d3.min\"}});\n",
       "   require([\"d3\"], function(d3){\n",
       "      window.d3 = d3;\n",
       "      LDAvis_load_lib(\"https://cdn.rawgit.com/bmabey/pyLDAvis/files/ldavis.v1.0.0.js\", function(){\n",
       "        new LDAvis(\"#\" + \"ldavis_el628321123576597281015646289\", ldavis_el628321123576597281015646289_data);\n",
       "      });\n",
       "    });\n",
       "}else{\n",
       "    // require.js not available: dynamically load d3 & LDAvis\n",
       "    LDAvis_load_lib(\"https://cdnjs.cloudflare.com/ajax/libs/d3/3.5.5/d3.min.js\", function(){\n",
       "         LDAvis_load_lib(\"https://cdn.rawgit.com/bmabey/pyLDAvis/files/ldavis.v1.0.0.js\", function(){\n",
       "                 new LDAvis(\"#\" + \"ldavis_el628321123576597281015646289\", ldavis_el628321123576597281015646289_data);\n",
       "            })\n",
       "         });\n",
       "}\n",
       "</script>"
      ],
      "text/plain": [
       "PreparedData(topic_coordinates=              x         y  topics  cluster       Freq\n",
       "topic                                                \n",
       "1     -0.428716 -0.009819       1        1  81.711992\n",
       "7      0.067193 -0.065942       2        1   3.432554\n",
       "6      0.064119 -0.275962       3        1   3.050333\n",
       "5      0.058548  0.099243       4        1   3.008876\n",
       "3      0.049421  0.077698       5        1   2.713030\n",
       "2      0.056304  0.042874       6        1   2.138496\n",
       "8      0.047752  0.043793       7        1   1.795937\n",
       "0      0.042858  0.038982       8        1   1.330902\n",
       "4      0.042520  0.049133       9        1   0.817878, topic_info=             Term         Freq        Total Category  logprob  loglift\n",
       "0         battery  1937.000000  1937.000000  Default  30.0000  30.0000\n",
       "50            put    65.000000    65.000000  Default  29.0000  29.0000\n",
       "429       lasting    41.000000    41.000000  Default  28.0000  28.0000\n",
       "701           son    46.000000    46.000000  Default  27.0000  27.0000\n",
       "84          month    39.000000    39.000000  Default  26.0000  26.0000\n",
       "...           ...          ...          ...      ...      ...      ...\n",
       "2743     shoulder     0.714865     1.353858   Topic9  -5.7329   4.1676\n",
       "2678  ecofriendly     0.714483     1.353697   Topic9  -5.7334   4.1672\n",
       "1474         zero     0.713631     1.352815   Topic9  -5.7346   4.1666\n",
       "1198         sony     0.705856     1.344947   Topic9  -5.7455   4.1615\n",
       "2741     included     0.705967     1.346596   Topic9  -5.7454   4.1604\n",
       "\n",
       "[316 rows x 6 columns], token_table=      Topic      Freq        Term\n",
       "term                             \n",
       "98        1  0.995618          aa\n",
       "399       9  0.874319        able\n",
       "2165      9  0.585421    absolute\n",
       "901       8  0.988946        acid\n",
       "568       3  0.932890  affordable\n",
       "...     ...       ...         ...\n",
       "3158      2  0.978518        yard\n",
       "900       3  0.991764       youll\n",
       "3151      3  0.965761        yuck\n",
       "1474      9  0.739200        zero\n",
       "3159      2  0.978518       zippy\n",
       "\n",
       "[298 rows x 3 columns], R=30, lambda_step=0.01, plot_opts={'xlab': 'PC1', 'ylab': 'PC2'}, topic_order=[2, 8, 7, 6, 4, 3, 9, 1, 5])"
      ]
     },
     "execution_count": 37,
     "metadata": {},
     "output_type": "execute_result"
    }
   ],
   "source": [
    "vis"
   ]
  },
  {
   "cell_type": "markdown",
   "metadata": {},
   "source": [
    "### Identifying Top 10 reviews based on the number of upvotes, timestamp and topics"
   ]
  },
  {
   "cell_type": "code",
   "execution_count": 38,
   "metadata": {},
   "outputs": [
    {
     "data": {
      "text/html": [
       "<div>\n",
       "<style scoped>\n",
       "    .dataframe tbody tr th:only-of-type {\n",
       "        vertical-align: middle;\n",
       "    }\n",
       "\n",
       "    .dataframe tbody tr th {\n",
       "        vertical-align: top;\n",
       "    }\n",
       "\n",
       "    .dataframe thead th {\n",
       "        text-align: right;\n",
       "    }\n",
       "</style>\n",
       "<table border=\"1\" class=\"dataframe\">\n",
       "  <thead>\n",
       "    <tr style=\"text-align: right;\">\n",
       "      <th></th>\n",
       "      <th>Document_No</th>\n",
       "      <th>Dominant_Topic</th>\n",
       "      <th>Topic_Perc_Contrib</th>\n",
       "      <th>Keywords</th>\n",
       "      <th>Text</th>\n",
       "    </tr>\n",
       "  </thead>\n",
       "  <tbody>\n",
       "    <tr>\n",
       "      <th>0</th>\n",
       "      <td>0</td>\n",
       "      <td>1.0</td>\n",
       "      <td>0.9251</td>\n",
       "      <td>battery, great, last, price, good, brand, long...</td>\n",
       "      <td>well looking cheap nonrechargeable battery las...</td>\n",
       "    </tr>\n",
       "    <tr>\n",
       "      <th>1</th>\n",
       "      <td>1</td>\n",
       "      <td>1.0</td>\n",
       "      <td>0.9463</td>\n",
       "      <td>battery, great, last, price, good, brand, long...</td>\n",
       "      <td>dont last long name brand battery like duracel...</td>\n",
       "    </tr>\n",
       "    <tr>\n",
       "      <th>2</th>\n",
       "      <td>2</td>\n",
       "      <td>1.0</td>\n",
       "      <td>0.8546</td>\n",
       "      <td>battery, great, last, price, good, brand, long...</td>\n",
       "      <td>fan offbrand battery far disappointed offbrand...</td>\n",
       "    </tr>\n",
       "    <tr>\n",
       "      <th>3</th>\n",
       "      <td>3</td>\n",
       "      <td>1.0</td>\n",
       "      <td>0.8627</td>\n",
       "      <td>battery, great, last, price, good, brand, long...</td>\n",
       "      <td>got cant really comment good job good price qu...</td>\n",
       "    </tr>\n",
       "    <tr>\n",
       "      <th>4</th>\n",
       "      <td>4</td>\n",
       "      <td>1.0</td>\n",
       "      <td>0.9463</td>\n",
       "      <td>battery, great, last, price, good, brand, long...</td>\n",
       "      <td>second purchase amazon battery work great good...</td>\n",
       "    </tr>\n",
       "    <tr>\n",
       "      <th>5</th>\n",
       "      <td>5</td>\n",
       "      <td>1.0</td>\n",
       "      <td>0.9523</td>\n",
       "      <td>battery, great, last, price, good, brand, long...</td>\n",
       "      <td>amazon battery job although gave star would sa...</td>\n",
       "    </tr>\n",
       "    <tr>\n",
       "      <th>6</th>\n",
       "      <td>6</td>\n",
       "      <td>1.0</td>\n",
       "      <td>0.7901</td>\n",
       "      <td>battery, great, last, price, good, brand, long...</td>\n",
       "      <td>find battery fail short time item like wireles...</td>\n",
       "    </tr>\n",
       "    <tr>\n",
       "      <th>7</th>\n",
       "      <td>7</td>\n",
       "      <td>1.0</td>\n",
       "      <td>0.6228</td>\n",
       "      <td>battery, great, last, price, good, brand, long...</td>\n",
       "      <td>exploted damage charger bought going happen ch...</td>\n",
       "    </tr>\n",
       "    <tr>\n",
       "      <th>8</th>\n",
       "      <td>8</td>\n",
       "      <td>1.0</td>\n",
       "      <td>0.6520</td>\n",
       "      <td>battery, great, last, price, good, brand, long...</td>\n",
       "      <td>battery horrible depend aa battery many wirele...</td>\n",
       "    </tr>\n",
       "    <tr>\n",
       "      <th>9</th>\n",
       "      <td>9</td>\n",
       "      <td>1.0</td>\n",
       "      <td>0.9748</td>\n",
       "      <td>battery, great, last, price, good, brand, long...</td>\n",
       "      <td>pack lowest price per aa battery find anywhere...</td>\n",
       "    </tr>\n",
       "  </tbody>\n",
       "</table>\n",
       "</div>"
      ],
      "text/plain": [
       "   Document_No  Dominant_Topic  Topic_Perc_Contrib                                           Keywords                                               Text\n",
       "0            0             1.0              0.9251  battery, great, last, price, good, brand, long...  well looking cheap nonrechargeable battery las...\n",
       "1            1             1.0              0.9463  battery, great, last, price, good, brand, long...  dont last long name brand battery like duracel...\n",
       "2            2             1.0              0.8546  battery, great, last, price, good, brand, long...  fan offbrand battery far disappointed offbrand...\n",
       "3            3             1.0              0.8627  battery, great, last, price, good, brand, long...  got cant really comment good job good price qu...\n",
       "4            4             1.0              0.9463  battery, great, last, price, good, brand, long...  second purchase amazon battery work great good...\n",
       "5            5             1.0              0.9523  battery, great, last, price, good, brand, long...  amazon battery job although gave star would sa...\n",
       "6            6             1.0              0.7901  battery, great, last, price, good, brand, long...  find battery fail short time item like wireles...\n",
       "7            7             1.0              0.6228  battery, great, last, price, good, brand, long...  exploted damage charger bought going happen ch...\n",
       "8            8             1.0              0.6520  battery, great, last, price, good, brand, long...  battery horrible depend aa battery many wirele...\n",
       "9            9             1.0              0.9748  battery, great, last, price, good, brand, long...  pack lowest price per aa battery find anywhere..."
      ]
     },
     "execution_count": 38,
     "metadata": {},
     "output_type": "execute_result"
    }
   ],
   "source": [
    "def format_topics_sentences(ldamodel=optimal_model, corpus=corpus,\n",
    "                            texts=filtered_word_list):\n",
    "\n",
    "    # Initialize output\n",
    "\n",
    "    sent_topics_df = pd.DataFrame()\n",
    "\n",
    "    # Get main topic in each document\n",
    "\n",
    "    for (i, row) in enumerate(ldamodel[corpus]):\n",
    "\n",
    "        row = sorted(row[0], key=lambda x: x[1], reverse=True)\n",
    "\n",
    "        # Get the Dominant topic, Perc Contribution and Keywords for each document\n",
    "\n",
    "        for (j, (topic_num, prop_topic)) in enumerate(row):\n",
    "            if j == 0:  # => dominant topic\n",
    "                wp = ldamodel.show_topic(topic_num)\n",
    "                topic_keywords = ', '.join([word for (word, prop) in\n",
    "                        wp])\n",
    "                sent_topics_df = \\\n",
    "                    sent_topics_df.append(pd.Series([int(topic_num),\n",
    "                        round(prop_topic, 4), topic_keywords]),\n",
    "                        ignore_index=True)\n",
    "            else:\n",
    "                break\n",
    "    sent_topics_df.columns = ['Dominant_Topic', 'Perc_Contribution',\n",
    "                              'Topic_Keywords']\n",
    "\n",
    "    # Add original text to the end of the output\n",
    "\n",
    "    contents = pd.Series(texts)\n",
    "    sent_topics_df = pd.concat([sent_topics_df, contents], axis=1)\n",
    "    \n",
    "    return sent_topics_df\n",
    "\n",
    "\n",
    "df_topic_sents_keywords = format_topics_sentences(ldamodel=optimal_model, corpus=corpus,\n",
    "                            texts=filtered_word_list)\n",
    "\n",
    "# Format and display ouput\n",
    "\n",
    "df_dominant_topic = df_topic_sents_keywords.reset_index()\n",
    "df_dominant_topic.columns = ['Document_No', 'Dominant_Topic',\n",
    "                             'Topic_Perc_Contrib', 'Keywords', 'Text']\n",
    "df_dominant_topic.head(10)"
   ]
  },
  {
   "cell_type": "code",
   "execution_count": 39,
   "metadata": {},
   "outputs": [
    {
     "data": {
      "text/html": [
       "<div>\n",
       "<style scoped>\n",
       "    .dataframe tbody tr th:only-of-type {\n",
       "        vertical-align: middle;\n",
       "    }\n",
       "\n",
       "    .dataframe tbody tr th {\n",
       "        vertical-align: top;\n",
       "    }\n",
       "\n",
       "    .dataframe thead th {\n",
       "        text-align: right;\n",
       "    }\n",
       "</style>\n",
       "<table border=\"1\" class=\"dataframe\">\n",
       "  <thead>\n",
       "    <tr style=\"text-align: right;\">\n",
       "      <th></th>\n",
       "      <th>Topic_Num</th>\n",
       "      <th>Topic_Perc_Contrib</th>\n",
       "      <th>Keywords</th>\n",
       "      <th>Text</th>\n",
       "    </tr>\n",
       "  </thead>\n",
       "  <tbody>\n",
       "    <tr>\n",
       "      <th>74</th>\n",
       "      <td>1.0</td>\n",
       "      <td>0.9884</td>\n",
       "      <td>battery, great, last, price, good, brand, long...</td>\n",
       "      <td>love battery happy bought battery super expens...</td>\n",
       "    </tr>\n",
       "    <tr>\n",
       "      <th>72</th>\n",
       "      <td>1.0</td>\n",
       "      <td>0.9817</td>\n",
       "      <td>battery, great, last, price, good, brand, long...</td>\n",
       "      <td>going great deal detail battery reviewer done ...</td>\n",
       "    </tr>\n",
       "    <tr>\n",
       "      <th>9</th>\n",
       "      <td>1.0</td>\n",
       "      <td>0.9748</td>\n",
       "      <td>battery, great, last, price, good, brand, long...</td>\n",
       "      <td>pack lowest price per aa battery find anywhere...</td>\n",
       "    </tr>\n",
       "    <tr>\n",
       "      <th>67</th>\n",
       "      <td>1.0</td>\n",
       "      <td>0.9741</td>\n",
       "      <td>battery, great, last, price, good, brand, long...</td>\n",
       "      <td>mom young kid battery quick tried type battery...</td>\n",
       "    </tr>\n",
       "    <tr>\n",
       "      <th>11</th>\n",
       "      <td>1.0</td>\n",
       "      <td>0.9736</td>\n",
       "      <td>battery, great, last, price, good, brand, long...</td>\n",
       "      <td>amazonbasics aa battery save lot time money go...</td>\n",
       "    </tr>\n",
       "    <tr>\n",
       "      <th>82</th>\n",
       "      <td>1.0</td>\n",
       "      <td>0.9716</td>\n",
       "      <td>battery, great, last, price, good, brand, long...</td>\n",
       "      <td>used battery one game camera life theamazon ba...</td>\n",
       "    </tr>\n",
       "    <tr>\n",
       "      <th>672</th>\n",
       "      <td>1.0</td>\n",
       "      <td>0.9714</td>\n",
       "      <td>battery, great, last, price, good, brand, long...</td>\n",
       "      <td>namebrand battery great cost bit lesserknown b...</td>\n",
       "    </tr>\n",
       "    <tr>\n",
       "      <th>80</th>\n",
       "      <td>1.0</td>\n",
       "      <td>0.9696</td>\n",
       "      <td>battery, great, last, price, good, brand, long...</td>\n",
       "      <td>terrible changed battery wireless keyboard yes...</td>\n",
       "    </tr>\n",
       "    <tr>\n",
       "      <th>839</th>\n",
       "      <td>1.0</td>\n",
       "      <td>0.9694</td>\n",
       "      <td>battery, great, last, price, good, brand, long...</td>\n",
       "      <td>bought thinking great save money well wonti us...</td>\n",
       "    </tr>\n",
       "    <tr>\n",
       "      <th>808</th>\n",
       "      <td>1.0</td>\n",
       "      <td>0.9687</td>\n",
       "      <td>battery, great, last, price, good, brand, long...</td>\n",
       "      <td>work well name brand battery cheaper better qu...</td>\n",
       "    </tr>\n",
       "  </tbody>\n",
       "</table>\n",
       "</div>"
      ],
      "text/plain": [
       "     Topic_Num  Topic_Perc_Contrib                                           Keywords                                               Text\n",
       "74         1.0              0.9884  battery, great, last, price, good, brand, long...  love battery happy bought battery super expens...\n",
       "72         1.0              0.9817  battery, great, last, price, good, brand, long...  going great deal detail battery reviewer done ...\n",
       "9          1.0              0.9748  battery, great, last, price, good, brand, long...  pack lowest price per aa battery find anywhere...\n",
       "67         1.0              0.9741  battery, great, last, price, good, brand, long...  mom young kid battery quick tried type battery...\n",
       "11         1.0              0.9736  battery, great, last, price, good, brand, long...  amazonbasics aa battery save lot time money go...\n",
       "82         1.0              0.9716  battery, great, last, price, good, brand, long...  used battery one game camera life theamazon ba...\n",
       "672        1.0              0.9714  battery, great, last, price, good, brand, long...  namebrand battery great cost bit lesserknown b...\n",
       "80         1.0              0.9696  battery, great, last, price, good, brand, long...  terrible changed battery wireless keyboard yes...\n",
       "839        1.0              0.9694  battery, great, last, price, good, brand, long...  bought thinking great save money well wonti us...\n",
       "808        1.0              0.9687  battery, great, last, price, good, brand, long...  work well name brand battery cheaper better qu..."
      ]
     },
     "execution_count": 39,
     "metadata": {},
     "output_type": "execute_result"
    }
   ],
   "source": [
    "# Group top 5 sentences under each topic\n",
    "\n",
    "sent_topics_sorteddf_mallet = pd.DataFrame()\n",
    "\n",
    "sent_topics_outdf_grpd = df_topic_sents_keywords.groupby('Dominant_Topic')\n",
    "\n",
    "for (i, grp) in sent_topics_outdf_grpd:\n",
    "    sent_topics_sorteddf_mallet = \\\n",
    "        pd.concat([sent_topics_sorteddf_mallet,\n",
    "                  grp.sort_values(['Perc_Contribution'],\n",
    "                  ascending=[0]).head(10)], axis=0)\n",
    "\n",
    "# Reset Index\n",
    "# sent_topics_sorteddf_mallet.reset_index(drop=True, inplace=True)\n",
    "\n",
    "# Format and display ouput\n",
    "\n",
    "sent_topics_sorteddf_mallet.columns = ['Topic_Num', 'Topic_Perc_Contrib'\n",
    "        , 'Keywords', 'Text']\n",
    "sent_topics_sorteddf_mallet.head(10)"
   ]
  },
  {
   "cell_type": "code",
   "execution_count": 40,
   "metadata": {},
   "outputs": [
    {
     "name": "stdout",
     "output_type": "stream",
     "text": [
      "74. I love these batteries. I am so happy that I bought them. Batteries are super expensive at my local retailer. It's sad when the batteries cost more than the thing you are putting them into. I paid about the same amount to get 48... Yes 48 AA batteries from Amazon as I would have paid to get 8 from my local retailer. I needed batteries for my new game trail camera. It takes 8 AA batteries and I was fearful that I was going to go into the poor house trying to keep fresh batteries in my trail camera. I went shopping online at Amazon and found these. I bought these several weeks ago. I used 8 AA from this box in my new trail camera. I am so happy with them. My trail camera has been in the woods several weeks and the batteries are still over 90 charged and that's after taking tons of video of game. These are working great and I saved a ton of cash. I am buying a box of the AAA now. I always seem to need them around the house for some reason. I am very happy with my new batteries from AmazonBasics. They are working great for me. I hope you found this information useful to you and thank you for reading.If you found this information helpful please click Yes on the link below. I greatly appreciate it. \n",
      "\n",
      "72. I'm not going to go into a great deal of detail about these batteries. Other reviewers here have done a fantastic job of doing that. Instead, I'm going to talk about the quality of Amazon's Basics line of batteries and whether or not they're worth your money. My son is six years-old and owns a ton of toys that require batteries. I can say, without-a-doubt, that we have tried every brand of battery out there. Time and time again we keep coming back to the AmazonBasics AA Performance batteries. They have a long shelf life, retain their charge, and as far as I can tell they last just as long as any other battery on the market. The biggest difference is in price. Where else are you going to get 48 quality AA batteries for 11 Just buy them! You won't regret it. \n",
      "\n",
      "9. The 48 packs are the lowest price per AA battery you will find anywhere. I have a device I use for work that needs 8 new AA batteries every working day. These batteries get me through a 12 hour day the same as the expensive batteries. I could switch to rechargeable batteries but the simplicity of just putting in new batteries and not fooling with recharging every night is worth it to me. \n",
      "\n",
      "67. As a Mom of 3 young kids, we go through batteries very quick! I've tried all types of batteries from name brand, to various store brands. Amazon compares to the top brands I've used, and in fact I would consider it a top brand. They last twice as long in my son's wireless PlayStation controllers than the Toys R Us brand we were previously using. You can't beat the price for the quality and I will only buy Amazon batteries from now on! \n",
      "\n",
      "11. AmazonBasics AA batteries save me a lot of time and money going to the store and buying them pack by pack, it is very cost efficient to but these for my budget friendly family of 5.I love that this is a big pack of batteries, 20 in all making the price drop down to about .38 cents a battery. I use these in everyday things from remotes, to flash lights. They work just as good as the more expensive batteries saving me lots of cash.I turn to the AmazonBasics brand when it comes to all of my office needs. I can't complain about any of their products I bought so far. Now it's time to buy a big pack of AAA batteries from AmazonBasics. I highly recommend these batteries to anyone out there looking to buy a great quality pack of batteries. These are great for products that have a highly running life like babies products or toys. They defiantly can keep up with my family without wasting ton of money. \n",
      "\n",
      "82. I used these batteries in one of my game cameras, but the life of theAmazon Basic battery did not last as long compared to name brand batteries. I really don't believe they are worth the savings when the Basics probably didn't take half the pictures in the game camera as Duracell. I will use these batteries in remote and my kids toys. \n",
      "\n",
      "672. Name-brand batteries are great. But, they do cost a bit more than lesser-known battery brands. Amazon may not be known for their batteries, but they have a good name. And if they are going to put their name on a product I am going to give them the benefit of the doubt that the product will work well. So far, so good - with these batteries. Good price... arrived quickly... and, are working fine. Whether they last as long as other brands I have yet to discover. \n",
      "\n",
      "80. Terrible. Just changed the batteries on my wireless keyboard... yesterday. Already dead. Put another set in low powered christmas lights. Dead in about an hour. (I have another identical christmas light set, powered by Energizer batteries. Still going after many many days of running).Unfortunately bought the 48 pack. Won't make this mistake again. \n",
      "\n",
      "839. I bought these thinking, Great I can save some money!...... Well.... no you won't....I have to use batteries in my camera because I'm too cheap to go buy a new camera..so I bought all these batteries (2 big boxes) ....Usually 2 batteries last about 10 hours if I continuously use them, take a lot of pics.(like energizer)...... Seriously, these batteries last me probably 2 hours when using them a lot...... Not kidding.....I will not repurchase these....... \n",
      "\n",
      "808. These work as well as the name brand batteries but are cheaper and better quality than even dollar store batteries. I use the subscribe and save service Amazon offers for batteries, wipes etc and save even more making them an even better value. At the rate my kids use AA batteries for their Xbox controllers, we need value! \n",
      "\n"
     ]
    }
   ],
   "source": [
    "# Top 10 reviews using LDA (based on topics discussed in the reviews)\n",
    "\n",
    "indexes = sent_topics_sorteddf_mallet.head(10).index.values.tolist()\n",
    "for i in indexes:\n",
    "    print ('{0}. '.format(i) + df.iloc[i, 20], '\\n')\n",
    "\n",
    "# df.iloc[indexes, [20, 17, 1]]"
   ]
  },
  {
   "cell_type": "code",
   "execution_count": 41,
   "metadata": {},
   "outputs": [
    {
     "name": "stdout",
     "output_type": "stream",
     "text": [
      "1. Well if you are looking for cheap non-rechargeable batteries that last quite a while then these are perfect. Nothing more to say. \n",
      "\n",
      "2. These don't last as long as name brand of batteries like Duracell or energizer. They are cheaper but I'd rather pay a little bit more and have them last a lot longer. \n",
      "\n",
      "3. I am not a fan of off-brand batteries and so far have been disappointed by off-brand battery performance. I have decided to give these batteries a try and thus far they have performed as expected. At this time I have a number of Amazon batteries because they are low cost. \n",
      "\n",
      "4. just got em so I can't really comment on how good the do the job, good price, quick delivery but have only put two into one of my keyboards but they can go up to a year so who can say after three days \n",
      "\n",
      "5. This was my second purchase of amazon batteries and they work great. Just as good or even better than name brand batteries and half the price. This will be the only way I purchase batteries from now on! \n",
      "\n",
      "6. These Amazon batteries did the job although I gave 4star only because I had a few I would say a hand full of batteries that were not as strong or were pretty weak but out of a box of 48 batteries, I will definitely buy again for this priceIm pretty well satisfied.Thank you! \n",
      "\n",
      "7. I find these batteries fail in a short time on items like wireless thermometers and wall clocks. On an average changing is required within a month. I would not purchase these again. \n",
      "\n",
      "8. 3 of them exploted and damage my charger that I bought here what is going to happen with my charger not satisfied with the batteries \n",
      "\n",
      "9. These batteries are horrible. We depend on AA batteries for many wireless microphone and have found that brand-name batteries last about a month per our usage. We switched to Amazon basics to try it out when a subscription for our preferred brand was no longer available and have found that, under the same usage, these batteries last about a week. That's a 1/4 capacity. \n",
      "\n",
      "10. The 48 packs are the lowest price per AA battery you will find anywhere. I have a device I use for work that needs 8 new AA batteries every working day. These batteries get me through a 12 hour day the same as the expensive batteries. I could switch to rechargeable batteries but the simplicity of just putting in new batteries and not fooling with recharging every night is worth it to me. \n",
      "\n"
     ]
    }
   ],
   "source": [
    "# Top 10 reviews based on the number of upvotes\n",
    "\n",
    "df_top = df.sort_values(by=['reviews.numHelpful'],\n",
    "                        ascending=False).head(10)\n",
    "for i in range(0, df_top.shape[0]):\n",
    "    print('{0}. '.format(i + 1) + df_top.iloc[i, 20], '\\n')\n",
    "\n",
    "# df_top[['reviews.text', 'reviews.numHelpful', 'dateAdded']]"
   ]
  },
  {
   "cell_type": "code",
   "execution_count": 42,
   "metadata": {},
   "outputs": [
    {
     "name": "stdout",
     "output_type": "stream",
     "text": [
      "1. Well if you are looking for cheap non-rechargeable batteries that last quite a while then these are perfect. Nothing more to say. \n",
      "\n",
      "2. This is my second batch. These batteries are perfect for what I needed. In my experience, they seem to be just as good as the more expensive name brands. \n",
      "\n",
      "3. Great deal on these! Seem to have more initial power than most alkalines. Great for my electric razor! Get them if you have kids with lots of toys that eat batteries! \n",
      "\n",
      "4. Worked well. I got these for some remote control mice I had purchased. Much fun was had scaring the office staff. \n",
      "\n",
      "5. These are now my go-to batteries....sorry copper top. I used them for lights at my daughter's wedding and they are still going strong! \n",
      "\n",
      "6. Best way to have electronics work is having them be charged or have batteries! Buying this pack will fix the needing batteries part! \n",
      "\n",
      "7. My son goes through batteries like crazy so I bought him this pack for his birthday no complaints and they last a lot longer than dollar store batteries. \n",
      "\n",
      "8. Name-brand batteries are great. But, they do cost a bit more than lesser-known battery brands. Amazon may not be known for their batteries, but they have a good name. And if they are going to put their name on a product I am going to give them the benefit of the doubt that the product will work well. So far, so good - with these batteries. Good price... arrived quickly... and, are working fine. Whether they last as long as other brands I have yet to discover. \n",
      "\n",
      "9. SAVE YOUR MONEY. Buy the name brand. I have a bathroom light that uses 3 AAA batteries. I typically get 6 months out of it with regular batteries I get roughly a week out of it with these. Sure, they are cheaper but you will buy them 4x as often. Worst Amazon purchase thus far. \n",
      "\n",
      "10. I have these on the subscribe and save listNever had any issues with old batteries or out-of-dateevery order has been perfect.My only small gripe is they seem do not last very long.But value wise they still beat buying name brandsI.D. (Indiana Dan) \n",
      "\n"
     ]
    }
   ],
   "source": [
    "# Top 10 reviews based on timestamp\n",
    "\n",
    "df['dateAdded'] = df['dateAdded'].astype('datetime64[ns]')\n",
    "df_top = df.sort_values(by=['dateAdded'], ascending=False).head(10)\n",
    "for i in range(0, df_top.shape[0]):\n",
    "    print('{0}. '.format(i + 1) + df_top.iloc[i, 20], '\\n')\n",
    "\n",
    "# df_top[['reviews.text', 'reviews.numHelpful', 'dateAdded']]"
   ]
  },
  {
   "cell_type": "code",
   "execution_count": 43,
   "metadata": {},
   "outputs": [
    {
     "name": "stdout",
     "output_type": "stream",
     "text": [
      "1. Well if you are looking for cheap non-rechargeable batteries that last quite a while then these are perfect. Nothing more to say. \n",
      "\n",
      "2. These don't last as long as name brand of batteries like Duracell or energizer. They are cheaper but I'd rather pay a little bit more and have them last a lot longer. \n",
      "\n",
      "3. I am not a fan of off-brand batteries and so far have been disappointed by off-brand battery performance. I have decided to give these batteries a try and thus far they have performed as expected. At this time I have a number of Amazon batteries because they are low cost. \n",
      "\n",
      "4. just got em so I can't really comment on how good the do the job, good price, quick delivery but have only put two into one of my keyboards but they can go up to a year so who can say after three days \n",
      "\n",
      "5. This was my second purchase of amazon batteries and they work great. Just as good or even better than name brand batteries and half the price. This will be the only way I purchase batteries from now on! \n",
      "\n",
      "6. These Amazon batteries did the job although I gave 4star only because I had a few I would say a hand full of batteries that were not as strong or were pretty weak but out of a box of 48 batteries, I will definitely buy again for this priceIm pretty well satisfied.Thank you! \n",
      "\n",
      "7. I find these batteries fail in a short time on items like wireless thermometers and wall clocks. On an average changing is required within a month. I would not purchase these again. \n",
      "\n",
      "8. 3 of them exploted and damage my charger that I bought here what is going to happen with my charger not satisfied with the batteries \n",
      "\n",
      "9. These batteries are horrible. We depend on AA batteries for many wireless microphone and have found that brand-name batteries last about a month per our usage. We switched to Amazon basics to try it out when a subscription for our preferred brand was no longer available and have found that, under the same usage, these batteries last about a week. That's a 1/4 capacity. \n",
      "\n",
      "10. The 48 packs are the lowest price per AA battery you will find anywhere. I have a device I use for work that needs 8 new AA batteries every working day. These batteries get me through a 12 hour day the same as the expensive batteries. I could switch to rechargeable batteries but the simplicity of just putting in new batteries and not fooling with recharging every night is worth it to me. \n",
      "\n"
     ]
    }
   ],
   "source": [
    "# Top 10 reviews based on the number of upvotes and timestamp\n",
    "\n",
    "df_top = df.sort_values(by=['dateAdded', 'reviews.numHelpful'],\n",
    "                        ascending=False).head(10)\n",
    "for i in range(0, df_top.shape[0]):\n",
    "    print('{0}. '.format(i + 1) + df_top.iloc[i, 20], '\\n')\n",
    "\n",
    "# df_top[['reviews.text', 'reviews.numHelpful', 'dateAdded']]"
   ]
  },
  {
   "cell_type": "code",
   "execution_count": null,
   "metadata": {},
   "outputs": [],
   "source": []
  }
 ],
 "metadata": {
  "kernelspec": {
   "display_name": "Python 3",
   "language": "python",
   "name": "python3"
  },
  "language_info": {
   "codemirror_mode": {
    "name": "ipython",
    "version": 3
   },
   "file_extension": ".py",
   "mimetype": "text/x-python",
   "name": "python",
   "nbconvert_exporter": "python",
   "pygments_lexer": "ipython3",
   "version": "3.7.6"
  }
 },
 "nbformat": 4,
 "nbformat_minor": 4
}
